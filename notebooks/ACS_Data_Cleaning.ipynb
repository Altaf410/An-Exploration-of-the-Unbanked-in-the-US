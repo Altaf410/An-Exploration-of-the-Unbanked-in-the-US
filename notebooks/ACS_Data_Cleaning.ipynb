{
 "cells": [
  {
   "cell_type": "code",
   "execution_count": 1,
   "metadata": {},
   "outputs": [],
   "source": [
    "import pandas as pd\n",
    "import dask.dataframe as dd\n",
    "import matplotlib.pyplot as plt\n",
    "import seaborn as sns"
   ]
  },
  {
   "cell_type": "code",
   "execution_count": 2,
   "metadata": {},
   "outputs": [],
   "source": [
    "#loading ACS data\n",
    "usa_df = pd.read_csv(\"../data/raw/usa_00005-002/usa_00005-002.csv\")"
   ]
  },
  {
   "cell_type": "code",
   "execution_count": 3,
   "metadata": {},
   "outputs": [],
   "source": [
    "#creating a copy for manipulation\n",
    "usa_df_cleaning = usa_df.copy()"
   ]
  },
  {
   "cell_type": "code",
   "execution_count": 4,
   "metadata": {},
   "outputs": [
    {
     "data": {
      "text/plain": [
       "array([2010, 2011, 2012, 2013, 2014, 2015, 2016, 2017, 2018], dtype=int64)"
      ]
     },
     "execution_count": 4,
     "metadata": {},
     "output_type": "execute_result"
    }
   ],
   "source": [
    "usa_df_cleaning.YEAR.unique()"
   ]
  },
  {
   "cell_type": "code",
   "execution_count": 5,
   "metadata": {},
   "outputs": [],
   "source": [
    "usa_df_cleaning = usa_df_cleaning[[\"YEAR\", \"SAMPLE\", \"REGION\", \"STATEFIP\", \"COUNTYFIP\", \"HHINCOME\", \"SEX\", \"AGE\", \"MARST\", \n",
    "                                   \"RACE\", \"CITIZEN\", \"EDUC\", \"OCC2010\", \"CINETHH\", \"CILAPTOP\", \"CISMRTPHN\", \"CITABLET\",\n",
    "                                   \"CIHAND\", \"CIHISPEED\", \"CISAT\", \"CIDIAL\", \"CIOTHSVC\", \"FAMSIZE\"]]"
   ]
  },
  {
   "cell_type": "code",
   "execution_count": 6,
   "metadata": {},
   "outputs": [],
   "source": [
    "#isolating years common to other data sets\n",
    "usa_2011 = usa_df_cleaning[(usa_df_cleaning[\"YEAR\"] == 2011)]\n",
    "usa_2011 = usa_df_cleaning[(usa_df_cleaning[\"YEAR\"] == 2012)]\n",
    "usa_2013 = usa_df_cleaning[(usa_df_cleaning[\"YEAR\"] == 2013)]\n",
    "usa_2015 = usa_df_cleaning[(usa_df_cleaning[\"YEAR\"] == 2015)]\n",
    "usa_2017 = usa_df_cleaning[(usa_df_cleaning[\"YEAR\"] == 2017)]\n",
    "usa_2011 = usa_df_cleaning[(usa_df_cleaning[\"YEAR\"] == 2018)]"
   ]
  },
  {
   "cell_type": "code",
   "execution_count": 7,
   "metadata": {},
   "outputs": [],
   "source": [
    "#staging for concatenation\n",
    "usa_years = [usa_2011, usa_2013, usa_2015, usa_2017]"
   ]
  },
  {
   "cell_type": "code",
   "execution_count": 8,
   "metadata": {},
   "outputs": [],
   "source": [
    "#recombining dataframes\n",
    "usa_df_cleaning = pd.concat(usa_years, axis=0)"
   ]
  },
  {
   "cell_type": "code",
   "execution_count": 9,
   "metadata": {},
   "outputs": [
    {
     "data": {
      "text/plain": [
       "YEAR          0.000000\n",
       "SAMPLE        0.000000\n",
       "REGION        0.000000\n",
       "STATEFIP      0.000000\n",
       "COUNTYFIP     0.000000\n",
       "HHINCOME      0.000000\n",
       "SEX           0.000000\n",
       "AGE           0.000000\n",
       "MARST         0.000000\n",
       "RACE          0.000000\n",
       "CITIZEN       0.000000\n",
       "EDUC          0.000000\n",
       "OCC2010       0.000000\n",
       "CINETHH       0.000000\n",
       "CILAPTOP      0.000000\n",
       "CISMRTPHN    49.508139\n",
       "CITABLET     49.508139\n",
       "CIHAND       50.491861\n",
       "CIHISPEED     0.000000\n",
       "CISAT         0.000000\n",
       "CIDIAL        0.000000\n",
       "CIOTHSVC      0.000000\n",
       "FAMSIZE       0.000000\n",
       "dtype: float64"
      ]
     },
     "execution_count": 9,
     "metadata": {},
     "output_type": "execute_result"
    }
   ],
   "source": [
    "usa_df_cleaning.isnull().sum()/len(usa_df_cleaning)*100"
   ]
  },
  {
   "cell_type": "markdown",
   "metadata": {},
   "source": [
    "<p>CISMRTPHN, CITABLET showing the same degree of missingness(75%)</p>\n",
    "CINETHH, CILAPTOP, CIHISPEED, CISAT, CIDIAL, CIOTHSVC showing the same degree of missingness (25%)."
   ]
  },
  {
   "cell_type": "code",
   "execution_count": 10,
   "metadata": {},
   "outputs": [],
   "source": [
    "#isolating and addressing columns with missing values\n",
    "usa_df_missing = usa_df_cleaning[[\"CINETHH\", \"CILAPTOP\", \"CISMRTPHN\", \"CITABLET\",\n",
    "                                   \"CIHAND\", \"CIHISPEED\", \"CISAT\", \"CIDIAL\", \"CIOTHSVC\"]]"
   ]
  },
  {
   "cell_type": "code",
   "execution_count": 11,
   "metadata": {},
   "outputs": [
    {
     "data": {
      "image/png": "[encoded data removed]",
      "text/plain": [
       "<Figure size 432x288 with 1 Axes>"
      ]
     },
     "metadata": {
      "needs_background": "light"
     },
     "output_type": "display_data"
    }
   ],
   "source": [
    "sns.heatmap(usa_df_missing.isnull(), cbar=False);"
   ]
  },
  {
   "cell_type": "code",
   "execution_count": 12,
   "metadata": {},
   "outputs": [
    {
     "data": {
      "text/plain": [
       "CINETHH       0.000000\n",
       "CILAPTOP      0.000000\n",
       "CISMRTPHN    49.508139\n",
       "CITABLET     49.508139\n",
       "CIHAND       50.491861\n",
       "CIHISPEED     0.000000\n",
       "CISAT         0.000000\n",
       "CIDIAL        0.000000\n",
       "CIOTHSVC      0.000000\n",
       "dtype: float64"
      ]
     },
     "execution_count": 12,
     "metadata": {},
     "output_type": "execute_result"
    }
   ],
   "source": [
    "usa_df_missing.isnull().sum()/len(usa_df_missing)*100"
   ]
  },
  {
   "cell_type": "markdown",
   "metadata": {},
   "source": [
    "It appears that the levels of missingness across variables may be uniform. Will confirm via manipulation and examination of indicies. "
   ]
  },
  {
   "cell_type": "code",
   "execution_count": 13,
   "metadata": {},
   "outputs": [],
   "source": [
    "usa_indicies = list(usa_df_missing.index)"
   ]
  },
  {
   "cell_type": "code",
   "execution_count": 14,
   "metadata": {},
   "outputs": [],
   "source": [
    "usa_years = list(usa_df_cleaning.YEAR.unique())"
   ]
  },
  {
   "cell_type": "code",
   "execution_count": 15,
   "metadata": {},
   "outputs": [
    {
     "name": "stdout",
     "output_type": "stream",
     "text": [
      "----------------2018----------------\n",
      "YEAR           0.0\n",
      "SAMPLE         0.0\n",
      "REGION         0.0\n",
      "STATEFIP       0.0\n",
      "COUNTYFIP      0.0\n",
      "HHINCOME       0.0\n",
      "SEX            0.0\n",
      "AGE            0.0\n",
      "MARST          0.0\n",
      "RACE           0.0\n",
      "CITIZEN        0.0\n",
      "EDUC           0.0\n",
      "OCC2010        0.0\n",
      "CINETHH        0.0\n",
      "CILAPTOP       0.0\n",
      "CISMRTPHN      0.0\n",
      "CITABLET       0.0\n",
      "CIHAND       100.0\n",
      "CIHISPEED      0.0\n",
      "CISAT          0.0\n",
      "CIDIAL         0.0\n",
      "CIOTHSVC       0.0\n",
      "FAMSIZE        0.0\n",
      "dtype: float64 \n",
      "\n",
      "----------------2013----------------\n",
      "YEAR           0.0\n",
      "SAMPLE         0.0\n",
      "REGION         0.0\n",
      "STATEFIP       0.0\n",
      "COUNTYFIP      0.0\n",
      "HHINCOME       0.0\n",
      "SEX            0.0\n",
      "AGE            0.0\n",
      "MARST          0.0\n",
      "RACE           0.0\n",
      "CITIZEN        0.0\n",
      "EDUC           0.0\n",
      "OCC2010        0.0\n",
      "CINETHH        0.0\n",
      "CILAPTOP       0.0\n",
      "CISMRTPHN    100.0\n",
      "CITABLET     100.0\n",
      "CIHAND         0.0\n",
      "CIHISPEED      0.0\n",
      "CISAT          0.0\n",
      "CIDIAL         0.0\n",
      "CIOTHSVC       0.0\n",
      "FAMSIZE        0.0\n",
      "dtype: float64 \n",
      "\n",
      "----------------2015----------------\n",
      "YEAR           0.0\n",
      "SAMPLE         0.0\n",
      "REGION         0.0\n",
      "STATEFIP       0.0\n",
      "COUNTYFIP      0.0\n",
      "HHINCOME       0.0\n",
      "SEX            0.0\n",
      "AGE            0.0\n",
      "MARST          0.0\n",
      "RACE           0.0\n",
      "CITIZEN        0.0\n",
      "EDUC           0.0\n",
      "OCC2010        0.0\n",
      "CINETHH        0.0\n",
      "CILAPTOP       0.0\n",
      "CISMRTPHN    100.0\n",
      "CITABLET     100.0\n",
      "CIHAND         0.0\n",
      "CIHISPEED      0.0\n",
      "CISAT          0.0\n",
      "CIDIAL         0.0\n",
      "CIOTHSVC       0.0\n",
      "FAMSIZE        0.0\n",
      "dtype: float64 \n",
      "\n",
      "----------------2017----------------\n",
      "YEAR           0.0\n",
      "SAMPLE         0.0\n",
      "REGION         0.0\n",
      "STATEFIP       0.0\n",
      "COUNTYFIP      0.0\n",
      "HHINCOME       0.0\n",
      "SEX            0.0\n",
      "AGE            0.0\n",
      "MARST          0.0\n",
      "RACE           0.0\n",
      "CITIZEN        0.0\n",
      "EDUC           0.0\n",
      "OCC2010        0.0\n",
      "CINETHH        0.0\n",
      "CILAPTOP       0.0\n",
      "CISMRTPHN      0.0\n",
      "CITABLET       0.0\n",
      "CIHAND       100.0\n",
      "CIHISPEED      0.0\n",
      "CISAT          0.0\n",
      "CIDIAL         0.0\n",
      "CIOTHSVC       0.0\n",
      "FAMSIZE        0.0\n",
      "dtype: float64 \n",
      "\n"
     ]
    }
   ],
   "source": [
    "for year in usa_years:\n",
    "    #display(usa_df_cleaning[usa_df_cleaning.YEAR == year])\n",
    "    print(f\"----------------{year}----------------\")\n",
    "    print(usa_df_cleaning[usa_df_cleaning.YEAR == year].isnull().sum()/len(usa_df_cleaning[usa_df_cleaning.YEAR == year])*100, \"\\n\")\n",
    "    plt.show()"
   ]
  },
  {
   "cell_type": "code",
   "execution_count": 16,
   "metadata": {},
   "outputs": [
    {
     "data": {
      "text/plain": [
       "(12684379, 23)"
      ]
     },
     "execution_count": 16,
     "metadata": {},
     "output_type": "execute_result"
    }
   ],
   "source": [
    "usa_df_cleaning.shape"
   ]
  },
  {
   "cell_type": "code",
   "execution_count": 17,
   "metadata": {},
   "outputs": [],
   "source": [
    "usa_df_cleaning.to_csv(\"../data/processed/ACS_2011_2017_clean\")"
   ]
  }
 ],
 "metadata": {
  "kernelspec": {
   "display_name": "Python 3",
   "language": "python",
   "name": "python3"
  },
  "language_info": {
   "codemirror_mode": {
    "name": "ipython",
    "version": 3
   },
   "file_extension": ".py",
   "mimetype": "text/x-python",
   "name": "python",
   "nbconvert_exporter": "python",
   "pygments_lexer": "ipython3",
   "version": "3.8.3"
  }
 },
 "nbformat": 4,
 "nbformat_minor": 2
}
