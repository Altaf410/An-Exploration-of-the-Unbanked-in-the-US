{
 "cells": [
  {
   "cell_type": "code",
   "execution_count": 1,
   "metadata": {},
   "outputs": [],
   "source": [
    "import pandas as pd\n",
    "import dask.dataframe as dd\n",
    "import matplotlib.pyplot as plt\n",
    "import seaborn as sns"
   ]
  },
  {
   "cell_type": "code",
   "execution_count": 2,
   "metadata": {},
   "outputs": [],
   "source": [
    "#loading ACS data\n",
    "usa_df = pd.read_csv(\"../data/raw/usa_00005-002/usa_00005-002.csv\")"
   ]
  },
  {
   "cell_type": "code",
   "execution_count": 3,
   "metadata": {},
   "outputs": [],
   "source": [
    "#creating a copy for manipulation\n",
    "usa_df_cleaning = usa_df.copy()"
   ]
  },
  {
   "cell_type": "code",
   "execution_count": 4,
   "metadata": {},
   "outputs": [],
   "source": [
    "usa_df_cleaning = usa_df_cleaning[[\"YEAR\", \"SAMPLE\", \"REGION\", \"STATEFIP\", \"COUNTYFIP\", \"HHINCOME\", \"SEX\", \"AGE\", \"MARST\", \n",
    "                                   \"RACE\", \"CITIZEN\", \"EDUC\", \"OCC2010\", \"CINETHH\", \"CILAPTOP\", \"CISMRTPHN\", \"CITABLET\",\n",
    "                                   \"CIHAND\", \"CIHISPEED\", \"CISAT\", \"CIDIAL\", \"CIOTHSVC\", \"FAMSIZE\"]]"
   ]
  },
  {
   "cell_type": "code",
   "execution_count": 5,
   "metadata": {},
   "outputs": [],
   "source": [
    "#isolating years common to other data sets\n",
    "usa_2011 = usa_df_cleaning[(usa_df_cleaning[\"YEAR\"] == 2011)]\n",
    "usa_2013 = usa_df_cleaning[(usa_df_cleaning[\"YEAR\"] == 2013)]\n",
    "usa_2015 = usa_df_cleaning[(usa_df_cleaning[\"YEAR\"] == 2015)]\n",
    "usa_2017 = usa_df_cleaning[(usa_df_cleaning[\"YEAR\"] == 2017)]"
   ]
  },
  {
   "cell_type": "code",
   "execution_count": 6,
   "metadata": {},
   "outputs": [],
   "source": [
    "#staging for concatenation\n",
    "usa_years = [usa_2011, usa_2013, usa_2015, usa_2017]"
   ]
  },
  {
   "cell_type": "code",
   "execution_count": 7,
   "metadata": {},
   "outputs": [],
   "source": [
    "usa_df_cleaning = pd.concat(usa_years, axis=0)"
   ]
  },
  {
   "cell_type": "code",
   "execution_count": 8,
   "metadata": {},
   "outputs": [
    {
     "data": {
      "text/plain": [
       "YEAR          0.000000\n",
       "SAMPLE        0.000000\n",
       "REGION        0.000000\n",
       "STATEFIP      0.000000\n",
       "COUNTYFIP     0.000000\n",
       "HHINCOME      0.000000\n",
       "SEX           0.000000\n",
       "AGE           0.000000\n",
       "MARST         0.000000\n",
       "RACE          0.000000\n",
       "CITIZEN       0.000000\n",
       "EDUC          0.000000\n",
       "OCC2010       0.000000\n",
       "CINETHH      24.734163\n",
       "CILAPTOP     24.734163\n",
       "CISMRTPHN    74.645714\n",
       "CITABLET     74.645714\n",
       "CIHAND       50.088449\n",
       "CIHISPEED    24.734163\n",
       "CISAT        24.734163\n",
       "CIDIAL       24.734163\n",
       "CIOTHSVC     24.734163\n",
       "FAMSIZE       0.000000\n",
       "dtype: float64"
      ]
     },
     "execution_count": 8,
     "metadata": {},
     "output_type": "execute_result"
    }
   ],
   "source": [
    "usa_df_cleaning.isnull().sum()/len(usa_df_cleaning)*100"
   ]
  },
  {
   "cell_type": "code",
   "execution_count": 9,
   "metadata": {},
   "outputs": [],
   "source": [
    "usa_df_cleaning.to_csv(\"../data/interim/usa_2011_2017_raw\")"
   ]
  },
  {
   "cell_type": "code",
   "execution_count": null,
   "metadata": {},
   "outputs": [],
   "source": []
  }
 ],
 "metadata": {
  "kernelspec": {
   "display_name": "Python 3",
   "language": "python",
   "name": "python3"
  },
  "language_info": {
   "codemirror_mode": {
    "name": "ipython",
    "version": 3
   },
   "file_extension": ".py",
   "mimetype": "text/x-python",
   "name": "python",
   "nbconvert_exporter": "python",
   "pygments_lexer": "ipython3",
   "version": "3.7.3"
  }
 },
 "nbformat": 4,
 "nbformat_minor": 2
}
