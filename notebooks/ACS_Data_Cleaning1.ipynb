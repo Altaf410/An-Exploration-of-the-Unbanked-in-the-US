{
 "cells": [
  {
   "cell_type": "code",
   "execution_count": 1,
   "metadata": {},
   "outputs": [],
   "source": [
    "import pandas as pd\n",
    "import dask.dataframe as dd\n",
    "import matplotlib.pyplot as plt\n",
    "import seaborn as sns"
   ]
  },
  {
   "cell_type": "code",
   "execution_count": 2,
   "metadata": {},
   "outputs": [],
   "source": [
    "#loading ACS data\n",
    "usa_df = pd.read_csv(\"../data/raw/usa_00005-002/usa_00005-002.csv\")"
   ]
  },
  {
   "cell_type": "code",
   "execution_count": 3,
   "metadata": {},
   "outputs": [],
   "source": [
    "#creating a copy for manipulation\n",
    "usa_df_cleaning = usa_df.copy()"
   ]
  },
  {
   "cell_type": "code",
   "execution_count": 4,
   "metadata": {},
   "outputs": [],
   "source": [
    "usa_df_cleaning = usa_df_cleaning[[\"YEAR\", \"SAMPLE\", \"REGION\", \"STATEFIP\", \"COUNTYFIP\", \"HHINCOME\", \"SEX\", \"AGE\", \"MARST\", \n",
    "                                   \"RACE\", \"CITIZEN\", \"EDUC\", \"OCC2010\", \"CINETHH\", \"CILAPTOP\", \"CISMRTPHN\", \"CITABLET\",\n",
    "                                   \"CIHAND\", \"CIHISPEED\", \"CISAT\", \"CIDIAL\", \"CIOTHSVC\", \"FAMSIZE\"]]"
   ]
  },
  {
   "cell_type": "code",
   "execution_count": 5,
   "metadata": {},
   "outputs": [],
   "source": [
    "#isolating years common to other data sets\n",
    "usa_2011 = usa_df_cleaning[(usa_df_cleaning[\"YEAR\"] == 2011)]\n",
    "usa_2013 = usa_df_cleaning[(usa_df_cleaning[\"YEAR\"] == 2013)]\n",
    "usa_2015 = usa_df_cleaning[(usa_df_cleaning[\"YEAR\"] == 2015)]\n",
    "usa_2017 = usa_df_cleaning[(usa_df_cleaning[\"YEAR\"] == 2017)]"
   ]
  },
  {
   "cell_type": "code",
   "execution_count": 6,
   "metadata": {},
   "outputs": [],
   "source": [
    "#staging for concatenation\n",
    "usa_years = [usa_2011, usa_2013, usa_2015, usa_2017]"
   ]
  },
  {
   "cell_type": "code",
   "execution_count": 7,
   "metadata": {},
   "outputs": [],
   "source": [
    "#recombining dataframes\n",
    "usa_df_cleaning = pd.concat(usa_years, axis=0)"
   ]
  },
  {
   "cell_type": "code",
   "execution_count": 15,
   "metadata": {},
   "outputs": [
    {
     "data": {
      "text/plain": [
       "YEAR               0\n",
       "SAMPLE             0\n",
       "REGION             0\n",
       "STATEFIP           0\n",
       "COUNTYFIP          0\n",
       "HHINCOME           0\n",
       "SEX                0\n",
       "AGE                0\n",
       "MARST              0\n",
       "RACE               0\n",
       "CITIZEN            0\n",
       "EDUC               0\n",
       "OCC2010            0\n",
       "CINETHH      3112017\n",
       "CILAPTOP     3112017\n",
       "CISMRTPHN    9391817\n",
       "CITABLET     9391817\n",
       "CIHAND       6302057\n",
       "CIHISPEED    3112017\n",
       "CISAT        3112017\n",
       "CIDIAL       3112017\n",
       "CIOTHSVC     3112017\n",
       "FAMSIZE            0\n",
       "dtype: int64"
      ]
     },
     "execution_count": 15,
     "metadata": {},
     "output_type": "execute_result"
    }
   ],
   "source": [
    "usa_df_cleaning.isnull().sum()"
   ]
  },
  {
   "cell_type": "code",
   "execution_count": 8,
   "metadata": {},
   "outputs": [
    {
     "data": {
      "text/plain": [
       "YEAR          0.000000\n",
       "SAMPLE        0.000000\n",
       "REGION        0.000000\n",
       "STATEFIP      0.000000\n",
       "COUNTYFIP     0.000000\n",
       "HHINCOME      0.000000\n",
       "SEX           0.000000\n",
       "AGE           0.000000\n",
       "MARST         0.000000\n",
       "RACE          0.000000\n",
       "CITIZEN       0.000000\n",
       "EDUC          0.000000\n",
       "OCC2010       0.000000\n",
       "CINETHH      24.734163\n",
       "CILAPTOP     24.734163\n",
       "CISMRTPHN    74.645714\n",
       "CITABLET     74.645714\n",
       "CIHAND       50.088449\n",
       "CIHISPEED    24.734163\n",
       "CISAT        24.734163\n",
       "CIDIAL       24.734163\n",
       "CIOTHSVC     24.734163\n",
       "FAMSIZE       0.000000\n",
       "dtype: float64"
      ]
     },
     "execution_count": 8,
     "metadata": {},
     "output_type": "execute_result"
    }
   ],
   "source": [
    "usa_df_cleaning.isnull().sum()/len(usa_df_cleaning)*100"
   ]
  },
  {
   "cell_type": "markdown",
   "metadata": {},
   "source": [
    "<p>CISMRTPHN, CITABLET showing the same degree of missingness(75%)</p>\n",
    "CINETHH, CILAPTOP, CIHISPEED, CISAT, CIDIAL, CIOTHSVC showing the same degree of missingness (25%)."
   ]
  },
  {
   "cell_type": "code",
   "execution_count": 18,
   "metadata": {},
   "outputs": [
    {
     "data": {
      "text/html": [
       "<div>\n",
       "<style scoped>\n",
       "    .dataframe tbody tr th:only-of-type {\n",
       "        vertical-align: middle;\n",
       "    }\n",
       "\n",
       "    .dataframe tbody tr th {\n",
       "        vertical-align: top;\n",
       "    }\n",
       "\n",
       "    .dataframe thead th {\n",
       "        text-align: right;\n",
       "    }\n",
       "</style>\n",
       "<table border=\"1\" class=\"dataframe\">\n",
       "  <thead>\n",
       "    <tr style=\"text-align: right;\">\n",
       "      <th></th>\n",
       "      <th>CINETHH</th>\n",
       "      <th>CILAPTOP</th>\n",
       "      <th>CISMRTPHN</th>\n",
       "      <th>CITABLET</th>\n",
       "      <th>CIHAND</th>\n",
       "      <th>CIHISPEED</th>\n",
       "      <th>CISAT</th>\n",
       "      <th>CIDIAL</th>\n",
       "      <th>CIOTHSVC</th>\n",
       "    </tr>\n",
       "  </thead>\n",
       "  <tbody>\n",
       "    <tr>\n",
       "      <th>3061692</th>\n",
       "      <td>NaN</td>\n",
       "      <td>NaN</td>\n",
       "      <td>NaN</td>\n",
       "      <td>NaN</td>\n",
       "      <td>NaN</td>\n",
       "      <td>NaN</td>\n",
       "      <td>NaN</td>\n",
       "      <td>NaN</td>\n",
       "      <td>NaN</td>\n",
       "    </tr>\n",
       "    <tr>\n",
       "      <th>3061693</th>\n",
       "      <td>NaN</td>\n",
       "      <td>NaN</td>\n",
       "      <td>NaN</td>\n",
       "      <td>NaN</td>\n",
       "      <td>NaN</td>\n",
       "      <td>NaN</td>\n",
       "      <td>NaN</td>\n",
       "      <td>NaN</td>\n",
       "      <td>NaN</td>\n",
       "    </tr>\n",
       "    <tr>\n",
       "      <th>3061694</th>\n",
       "      <td>NaN</td>\n",
       "      <td>NaN</td>\n",
       "      <td>NaN</td>\n",
       "      <td>NaN</td>\n",
       "      <td>NaN</td>\n",
       "      <td>NaN</td>\n",
       "      <td>NaN</td>\n",
       "      <td>NaN</td>\n",
       "      <td>NaN</td>\n",
       "    </tr>\n",
       "    <tr>\n",
       "      <th>3061695</th>\n",
       "      <td>NaN</td>\n",
       "      <td>NaN</td>\n",
       "      <td>NaN</td>\n",
       "      <td>NaN</td>\n",
       "      <td>NaN</td>\n",
       "      <td>NaN</td>\n",
       "      <td>NaN</td>\n",
       "      <td>NaN</td>\n",
       "      <td>NaN</td>\n",
       "    </tr>\n",
       "    <tr>\n",
       "      <th>3061696</th>\n",
       "      <td>NaN</td>\n",
       "      <td>NaN</td>\n",
       "      <td>NaN</td>\n",
       "      <td>NaN</td>\n",
       "      <td>NaN</td>\n",
       "      <td>NaN</td>\n",
       "      <td>NaN</td>\n",
       "      <td>NaN</td>\n",
       "      <td>NaN</td>\n",
       "    </tr>\n",
       "    <tr>\n",
       "      <th>...</th>\n",
       "      <td>...</td>\n",
       "      <td>...</td>\n",
       "      <td>...</td>\n",
       "      <td>...</td>\n",
       "      <td>...</td>\n",
       "      <td>...</td>\n",
       "      <td>...</td>\n",
       "      <td>...</td>\n",
       "      <td>...</td>\n",
       "    </tr>\n",
       "    <tr>\n",
       "      <th>25045671</th>\n",
       "      <td>0.0</td>\n",
       "      <td>0.0</td>\n",
       "      <td>0.0</td>\n",
       "      <td>0.0</td>\n",
       "      <td>NaN</td>\n",
       "      <td>0.0</td>\n",
       "      <td>0.0</td>\n",
       "      <td>0.0</td>\n",
       "      <td>0.0</td>\n",
       "    </tr>\n",
       "    <tr>\n",
       "      <th>25045672</th>\n",
       "      <td>0.0</td>\n",
       "      <td>0.0</td>\n",
       "      <td>0.0</td>\n",
       "      <td>0.0</td>\n",
       "      <td>NaN</td>\n",
       "      <td>0.0</td>\n",
       "      <td>0.0</td>\n",
       "      <td>0.0</td>\n",
       "      <td>0.0</td>\n",
       "    </tr>\n",
       "    <tr>\n",
       "      <th>25045673</th>\n",
       "      <td>0.0</td>\n",
       "      <td>0.0</td>\n",
       "      <td>0.0</td>\n",
       "      <td>0.0</td>\n",
       "      <td>NaN</td>\n",
       "      <td>0.0</td>\n",
       "      <td>0.0</td>\n",
       "      <td>0.0</td>\n",
       "      <td>0.0</td>\n",
       "    </tr>\n",
       "    <tr>\n",
       "      <th>25045674</th>\n",
       "      <td>0.0</td>\n",
       "      <td>0.0</td>\n",
       "      <td>0.0</td>\n",
       "      <td>0.0</td>\n",
       "      <td>NaN</td>\n",
       "      <td>0.0</td>\n",
       "      <td>0.0</td>\n",
       "      <td>0.0</td>\n",
       "      <td>0.0</td>\n",
       "    </tr>\n",
       "    <tr>\n",
       "      <th>25045675</th>\n",
       "      <td>0.0</td>\n",
       "      <td>0.0</td>\n",
       "      <td>0.0</td>\n",
       "      <td>0.0</td>\n",
       "      <td>NaN</td>\n",
       "      <td>0.0</td>\n",
       "      <td>0.0</td>\n",
       "      <td>0.0</td>\n",
       "      <td>0.0</td>\n",
       "    </tr>\n",
       "  </tbody>\n",
       "</table>\n",
       "<p>12581857 rows × 9 columns</p>\n",
       "</div>"
      ],
      "text/plain": [
       "          CINETHH  CILAPTOP  CISMRTPHN  CITABLET  CIHAND  CIHISPEED  CISAT  \\\n",
       "3061692       NaN       NaN        NaN       NaN     NaN        NaN    NaN   \n",
       "3061693       NaN       NaN        NaN       NaN     NaN        NaN    NaN   \n",
       "3061694       NaN       NaN        NaN       NaN     NaN        NaN    NaN   \n",
       "3061695       NaN       NaN        NaN       NaN     NaN        NaN    NaN   \n",
       "3061696       NaN       NaN        NaN       NaN     NaN        NaN    NaN   \n",
       "...           ...       ...        ...       ...     ...        ...    ...   \n",
       "25045671      0.0       0.0        0.0       0.0     NaN        0.0    0.0   \n",
       "25045672      0.0       0.0        0.0       0.0     NaN        0.0    0.0   \n",
       "25045673      0.0       0.0        0.0       0.0     NaN        0.0    0.0   \n",
       "25045674      0.0       0.0        0.0       0.0     NaN        0.0    0.0   \n",
       "25045675      0.0       0.0        0.0       0.0     NaN        0.0    0.0   \n",
       "\n",
       "          CIDIAL  CIOTHSVC  \n",
       "3061692      NaN       NaN  \n",
       "3061693      NaN       NaN  \n",
       "3061694      NaN       NaN  \n",
       "3061695      NaN       NaN  \n",
       "3061696      NaN       NaN  \n",
       "...          ...       ...  \n",
       "25045671     0.0       0.0  \n",
       "25045672     0.0       0.0  \n",
       "25045673     0.0       0.0  \n",
       "25045674     0.0       0.0  \n",
       "25045675     0.0       0.0  \n",
       "\n",
       "[12581857 rows x 9 columns]"
      ]
     },
     "execution_count": 18,
     "metadata": {},
     "output_type": "execute_result"
    }
   ],
   "source": [
    "usa_df_cleaning[[\"CINETHH\", \"CILAPTOP\", \"CISMRTPHN\", \"CITABLET\",\n",
    "                                   \"CIHAND\", \"CIHISPEED\", \"CISAT\", \"CIDIAL\", \"CIOTHSVC\"]]"
   ]
  },
  {
   "cell_type": "code",
   "execution_count": 13,
   "metadata": {},
   "outputs": [
    {
     "data": {
      "text/plain": [
       "<matplotlib.axes._subplots.AxesSubplot at 0x1fe3ac219d0>"
      ]
     },
     "execution_count": 13,
     "metadata": {},
     "output_type": "execute_result"
    },
    {
     "data": {
      "image/png": "[encoded data removed]",
      "text/plain": [
       "<Figure size 432x288 with 1 Axes>"
      ]
     },
     "metadata": {
      "needs_background": "light"
     },
     "output_type": "display_data"
    }
   ],
   "source": [
    "sns.heatmap(usa_df_cleaning[[\"CINETHH\", \"CILAPTOP\", \"CISMRTPHN\", \"CITABLET\",\n",
    "                                   \"CIHAND\", \"CIHISPEED\", \"CISAT\", \"CIDIAL\", \"CIOTHSVC\", \"FAMSIZE\"]].isnull(), cbar=False)"
   ]
  },
  {
   "cell_type": "code",
   "execution_count": 9,
   "metadata": {},
   "outputs": [
    {
     "data": {
      "text/plain": [
       "(12581857, 23)"
      ]
     },
     "execution_count": 9,
     "metadata": {},
     "output_type": "execute_result"
    }
   ],
   "source": [
    "usa_df_cleaning.shape"
   ]
  },
  {
   "cell_type": "code",
   "execution_count": 9,
   "metadata": {},
   "outputs": [],
   "source": [
    "usa_df_cleaning.to_csv(\"../data/interim/usa_2011_2017_raw\")"
   ]
  }
 ],
 "metadata": {
  "kernelspec": {
   "display_name": "Python 3",
   "language": "python",
   "name": "python3"
  },
  "language_info": {
   "codemirror_mode": {
    "name": "ipython",
    "version": 3
   },
   "file_extension": ".py",
   "mimetype": "text/x-python",
   "name": "python",
   "nbconvert_exporter": "python",
   "pygments_lexer": "ipython3",
   "version": "3.7.3"
  }
 },
 "nbformat": 4,
 "nbformat_minor": 2
}
