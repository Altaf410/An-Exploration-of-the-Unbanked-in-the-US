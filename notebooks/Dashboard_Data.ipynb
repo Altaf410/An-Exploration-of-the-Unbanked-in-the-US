{
 "cells": [
  {
   "cell_type": "code",
   "execution_count": null,
   "metadata": {},
   "outputs": [],
   "source": [
    "import pandas as pd\n",
    "import seaborn as sns"
   ]
  },
  {
   "cell_type": "code",
   "execution_count": null,
   "metadata": {},
   "outputs": [],
   "source": [
    "CPS_df = pd.read_csv(\"../data/processed/cps_2009_2017_clean\")\n",
    "ACS_df = pd.read_csv(\"../data/processed/ACS_2011_2017_clean\")\n",
    "NFCS_df = pd.read_csv(\"../data/processed/NFCS_2009_2018_clean\")"
   ]
  },
  {
   "cell_type": "code",
   "execution_count": null,
   "metadata": {},
   "outputs": [],
   "source": [
    "frames = [CPS_df, ACS_df, NFCS_df]"
   ]
  },
  {
   "cell_type": "code",
   "execution_count": null,
   "metadata": {},
   "outputs": [],
   "source": [
    "#declaring STATE list\n",
    "STATES = [\"Alabama\",\"Alaska\",\"Arizona\",\"Arkansas\",\"California\",\"Colorado\",\n",
    "          \"Connecticut\",\"Delaware\",\"District of Columbia\", \"Florida\",\"Georgia\",\"Hawaii\",\n",
    "          \"Idaho\",\"Illinois\", \"Indiana\",\"Iowa\",\"Kansas\",\"Kentucky\",\"Louisiana\",\"Maine\",\n",
    "          \"Maryland\",\"Massachusetts\",\"Michigan\",\"Minnesota\",\"Mississippi\",\"Missouri\",\"Montana\",\n",
    "          \"Nebraska\",\"Nevada\",\"New Hampshire\",\"New Jersey\",\"New Mexico\",\"New York\",\n",
    "          \"North Carolina\",\"North Dakota\",\"Ohio\",\"Oklahoma\",\"Oregon\",\"Pennsylvania\",\n",
    "          \"Rhode Island\",\"South Carolina\",\"South Dakota\",\"Tennessee\",\"Texas\",\"Utah\",\n",
    "          \"Vermont\",\"Virginia\",\"Washington\",\"West Virginia\",\"Wisconsin\",\"Wyoming\"]"
   ]
  },
  {
   "cell_type": "code",
   "execution_count": null,
   "metadata": {},
   "outputs": [],
   "source": [
    "#generating state:state_number dictionary\n",
    "STATE_FIPS = list(frames[0].STATEFIP.unique())\n",
    "\n",
    "STATE = {}\n",
    "for state, name in zip(STATE_FIPS, STATES):\n",
    "    STATE[state] = name"
   ]
  },
  {
   "cell_type": "code",
   "execution_count": null,
   "metadata": {},
   "outputs": [],
   "source": [
    "#generating STATE column for pertinent dfs\n",
    "CPS_df[\"STATE\"] = CPS_df.STATEFIP.map(STATE)\n",
    "ACS_df[\"STATE\"] = ACS_df.STATEFIP.map(STATE)"
   ]
  },
  {
   "cell_type": "code",
   "execution_count": null,
   "metadata": {},
   "outputs": [],
   "source": [
    "pop_prop = pd.read_csv(\"../data/interim/population_proportions\")"
   ]
  },
  {
   "cell_type": "code",
   "execution_count": null,
   "metadata": {},
   "outputs": [],
   "source": [
    "CPS_agg = pd.DataFrame()\n",
    "CPS_agg[\"STATE\"] = CPS_df.STATE\n",
    "CPS_agg[\"UNDERBANKED\"] = CPS_df.BUNBANKED\n",
    "CPS_agg[\"UNDERBANKED_REASON\"] = CPS_df.BUNDERBANKREAS\n",
    "\n",
    "\n",
    "CPS_agg = CPS_agg.groupby([\"STATE\"]).count()\n",
    "\n",
    "CPS_agg = CPS_agg.reset_index()\n",
    "\n",
    "CPS_agg[\"STATE_SURVEY_POP\"] = pop_prop[\"BUNBANKED\"]\n",
    "CPS_agg"
   ]
  },
  {
   "cell_type": "code",
   "execution_count": null,
   "metadata": {},
   "outputs": [],
   "source": [
    "WA_UB_pop_CPS_agg = CPS_agg[CPS_agg.STATE == \"Washington\"]\n",
    "WA_UB_pop_CPS_agg_sum = CPS_agg[CPS_agg.STATE == \"Washington\"][\"UNDERBANKED\"].sum()"
   ]
  },
  {
   "cell_type": "code",
   "execution_count": null,
   "metadata": {},
   "outputs": [],
   "source": [
    "WA_UB_pop_CPS_agg[\"STATE_SURVEY_POP\"] = WA_UB_pop_CPS_agg.UNDERBANKED/WA_UB_pop_CPS_agg_sum*100\n",
    "WA_columns = list(WA_UB_pop_CPS_agg.columns)[0:]\n",
    "\n",
    "WA_UB_pop_CPS_agg.reset_index()[WA_columns]"
   ]
  },
  {
   "cell_type": "code",
   "execution_count": null,
   "metadata": {},
   "outputs": [],
   "source": [
    "#Isolating the specific northwest while \n",
    "PNW = [\"Washington\", \"Oregon\", \"Wyoming\", \"Montana\", \"Idaho\"]"
   ]
  },
  {
   "cell_type": "code",
   "execution_count": null,
   "metadata": {},
   "outputs": [],
   "source": [
    "PNW_CPS_agg = CPS_agg[CPS_agg.STATE.isin(PNW)]\n",
    "\n",
    "PNW_CPS_agg"
   ]
  },
  {
   "cell_type": "code",
   "execution_count": null,
   "metadata": {},
   "outputs": [],
   "source": [
    "PNW_CPS_agg[PNW_CPS_agg.STATE == PNW[0]].UNDERBANKED.sum()"
   ]
  },
  {
   "cell_type": "code",
   "execution_count": null,
   "metadata": {},
   "outputs": [],
   "source": [
    "#getting response sums for each state\n",
    "PNW_response_sums = [PNW_CPS_agg[PNW_CPS_agg.STATE == state].UNDERBANKED.sum() for state in PNW ]"
   ]
  },
  {
   "cell_type": "code",
   "execution_count": null,
   "metadata": {},
   "outputs": [],
   "source": [
    "PNW_response_dict = dict(zip(PNW, PNW_response_sums))\n",
    "PNW_response_dict"
   ]
  },
  {
   "cell_type": "code",
   "execution_count": null,
   "metadata": {},
   "outputs": [],
   "source": [
    "state_df_list = []\n",
    "for state in PNW:\n",
    "    holder = PNW_CPS_agg[PNW_CPS_agg.STATE == state]\n",
    "    holder[\"STATE_SURVEY_POP\"] = holder.UNDERBANKED/PNW_response_dict[state]*100\n",
    "    state_df_list.append(holder)"
   ]
  },
  {
   "cell_type": "code",
   "execution_count": null,
   "metadata": {},
   "outputs": [],
   "source": [
    "pd.concat(state_df_list)"
   ]
  },
  {
   "cell_type": "markdown",
   "metadata": {},
   "source": [
    "----------------------------------------------------------------------------------------------"
   ]
  },
  {
   "cell_type": "code",
   "execution_count": null,
   "metadata": {},
   "outputs": [],
   "source": [
    "NFCS_df"
   ]
  },
  {
   "cell_type": "code",
   "execution_count": null,
   "metadata": {},
   "outputs": [],
   "source": []
  },
  {
   "cell_type": "code",
   "execution_count": null,
   "metadata": {},
   "outputs": [],
   "source": []
  },
  {
   "cell_type": "code",
   "execution_count": null,
   "metadata": {},
   "outputs": [],
   "source": []
  },
  {
   "cell_type": "code",
   "execution_count": null,
   "metadata": {},
   "outputs": [],
   "source": [
    "CPS_agg = pd.DataFrame()\n",
    "CPS_agg[\"STATE\"] = CPS_df.STATE\n",
    "CPS_agg[\"UNDERBANKED\"] = CPS_df.BUNBANKED\n",
    "CPS_agg[\"UNDERBANKED_REASON\"] = CPS_df.BUNDERBANKREAS\n",
    "\n",
    "#CPS_agg = CPS_agg.groupby([\"STATE\"]).count()\n",
    "CPS_agg = CPS_agg.groupby([\"STATE\", \"UNDERBANKED_REASON\"]).count()\n",
    "\n",
    "CPS_agg = CPS_agg.reset_index()\n",
    "\n",
    "CPS_agg[\"STATE_SURVEY_POP\"] = pop_prop[\"BUNBANKED\"]\n",
    "\n",
    "CPS_agg[CPS_agg.STATE == \"Alabama\"]"
   ]
  },
  {
   "cell_type": "code",
   "execution_count": null,
   "metadata": {},
   "outputs": [],
   "source": [
    "CPS_agg = pd.DataFrame()\n",
    "CPS_agg[\"STATE\"] = CPS_df.STATE\n",
    "CPS_agg[\"UNDERBANKED_REASON\"] = CPS_df.BUNDERBANKREAS\n",
    "\n",
    "CPS_agg = CPS_agg.groupby([\"STATE\"])[\"UNDERBANKED_REASON\"].count()\n",
    "\n",
    "CPS_agg = CPS_agg.reset_index()\n",
    "CPS_agg\n",
    "#CPS_agg[CPS_agg[\"STATE\"] == \"Alabama\"][]"
   ]
  },
  {
   "cell_type": "code",
   "execution_count": null,
   "metadata": {},
   "outputs": [],
   "source": [
    "CPS_agg.reset_index()"
   ]
  },
  {
   "cell_type": "code",
   "execution_count": null,
   "metadata": {},
   "outputs": [],
   "source": [
    "CPS_agg[\"STATE_SURVEY_POP\"] = CPS_df[\"BUNBANKED\"]"
   ]
  },
  {
   "cell_type": "code",
   "execution_count": null,
   "metadata": {},
   "outputs": [],
   "source": [
    "CPS_agg = CPS_agg.reset_index()"
   ]
  },
  {
   "cell_type": "code",
   "execution_count": null,
   "metadata": {},
   "outputs": [],
   "source": [
    "CPS_agg.head()"
   ]
  },
  {
   "cell_type": "code",
   "execution_count": null,
   "metadata": {},
   "outputs": [],
   "source": [
    "NFCS_df"
   ]
  },
  {
   "cell_type": "code",
   "execution_count": null,
   "metadata": {},
   "outputs": [],
   "source": []
  }
 ],
 "metadata": {
  "kernelspec": {
   "display_name": "Python 3",
   "language": "python",
   "name": "python3"
  },
  "language_info": {
   "codemirror_mode": {
    "name": "ipython",
    "version": 3
   },
   "file_extension": ".py",
   "mimetype": "text/x-python",
   "name": "python",
   "nbconvert_exporter": "python",
   "pygments_lexer": "ipython3",
   "version": "3.7.3"
  }
 },
 "nbformat": 4,
 "nbformat_minor": 4
}
