{
 "cells": [
  {
   "cell_type": "code",
   "execution_count": 1,
   "metadata": {
    "cell_style": "center"
   },
   "outputs": [
    {
     "name": "stderr",
     "output_type": "stream",
     "text": [
      "C:\\Users\\Desmond\\Anaconda3\\lib\\site-packages\\dask\\config.py:168: YAMLLoadWarning: calling yaml.load() without Loader=... is deprecated, as the default Loader is unsafe. Please read https://msg.pyyaml.org/load for full details.\n",
      "  data = yaml.load(f.read()) or {}\n",
      "C:\\Users\\Desmond\\Anaconda3\\lib\\site-packages\\dask\\dataframe\\utils.py:13: FutureWarning: pandas.util.testing is deprecated. Use the functions in the public API at pandas.testing instead.\n",
      "  import pandas.util.testing as tm\n"
     ]
    }
   ],
   "source": [
    "import pandas as pd"
   ]
  },
  {
   "cell_type": "markdown",
   "metadata": {},
   "source": [
    "## CPS Cleaning"
   ]
  },
  {
   "cell_type": "code",
   "execution_count": 2,
   "metadata": {},
   "outputs": [],
   "source": [
    "#reading in CPS data\n",
    "cps = pd.read_csv(\"../data/raw/cps_00050.zip\")"
   ]
  },
  {
   "cell_type": "code",
   "execution_count": 3,
   "metadata": {},
   "outputs": [],
   "source": [
    "#creating CPS copy for manipulation\n",
    "cps_cleaning = cps.copy()"
   ]
  },
  {
   "cell_type": "code",
   "execution_count": 4,
   "metadata": {},
   "outputs": [
    {
     "data": {
      "text/plain": [
       "(1578977, 161)"
      ]
     },
     "execution_count": 4,
     "metadata": {},
     "output_type": "execute_result"
    }
   ],
   "source": [
    "#seeing data structure\n",
    "cps_cleaning.shape"
   ]
  },
  {
   "cell_type": "code",
   "execution_count": 5,
   "metadata": {
    "cell_style": "center"
   },
   "outputs": [
    {
     "data": {
      "text/plain": [
       "Index(['YEAR', 'SERIAL', 'MONTH', 'HWTFINL', 'CPSID', 'REGION', 'STATEFIP',\n",
       "       'COUNTY', 'BPSUPINT', 'BUNBANKED',\n",
       "       ...\n",
       "       'QCINTSCH', 'QCINTUSE', 'QCINUMCMP', 'QCISTPNET', 'QCIUSECMP', 'CIPWT',\n",
       "       'CISUPPWT', 'UBSUPPWT', 'BPACCT', 'BWHOACCT'],\n",
       "      dtype='object', length=161)"
      ]
     },
     "execution_count": 5,
     "metadata": {},
     "output_type": "execute_result"
    }
   ],
   "source": [
    "#reviewing CPS columns\n",
    "cps_cleaning.columns"
   ]
  },
  {
   "cell_type": "code",
   "execution_count": 6,
   "metadata": {},
   "outputs": [],
   "source": [
    "#isolating variables of interest\n",
    "cps_cleaning = cps_cleaning[[\"YEAR\", \"MONTH\", \"REGION\", \"STATEFIP\", \"COUNTY\", \"AGE\", \"SEX\", \"RACE\", \"BUNBANKED\", \n",
    "                             \"BUNDERBANKREAS\", \"BACCTEV\", \"BCHECKEV\", \"BCHECK12M\", \"BCHECKREAS\", \"BPAYDAY\", \"BPAYDAYOFT\", \n",
    "                             \"BPAYDAYREAS\", \"BCHECK30D\", \"BPAYDAY12M\", \"BPAYDAY30D\", \"BINCWHERE\", \"BBILLCASH\", \n",
    "                             \"BBILLCHECK\", \"BCREDITAPP\", \"BCREDITDENY\", \"BNOACCT\", \"BSAVECACCT\", \"BINC12M\", \"BINTERNET\", \n",
    "                             \"BPSUPINT\", \"CIHHCOMP\", \"CINETHH\", \"CINETHP\", \"CINTUSE\", \"CINTOUT\", \"CINTOTHH\", \"CINTLIBH\", \n",
    "                             \"CINTSCH\", \"CINTSCHH\", \"CINONET\", \"CIHSNET\"]]"
   ]
  },
  {
   "cell_type": "code",
   "execution_count": 7,
   "metadata": {
    "cell_style": "center"
   },
   "outputs": [
    {
     "data": {
      "text/html": [
       "<div>\n",
       "<style scoped>\n",
       "    .dataframe tbody tr th:only-of-type {\n",
       "        vertical-align: middle;\n",
       "    }\n",
       "\n",
       "    .dataframe tbody tr th {\n",
       "        vertical-align: top;\n",
       "    }\n",
       "\n",
       "    .dataframe thead th {\n",
       "        text-align: right;\n",
       "    }\n",
       "</style>\n",
       "<table border=\"1\" class=\"dataframe\">\n",
       "  <thead>\n",
       "    <tr style=\"text-align: right;\">\n",
       "      <th></th>\n",
       "      <th>YEAR</th>\n",
       "      <th>MONTH</th>\n",
       "      <th>REGION</th>\n",
       "      <th>STATEFIP</th>\n",
       "      <th>COUNTY</th>\n",
       "      <th>AGE</th>\n",
       "      <th>SEX</th>\n",
       "      <th>RACE</th>\n",
       "      <th>BUNBANKED</th>\n",
       "      <th>BUNDERBANKREAS</th>\n",
       "      <th>...</th>\n",
       "      <th>CINETHH</th>\n",
       "      <th>CINETHP</th>\n",
       "      <th>CINTUSE</th>\n",
       "      <th>CINTOUT</th>\n",
       "      <th>CINTOTHH</th>\n",
       "      <th>CINTLIBH</th>\n",
       "      <th>CINTSCH</th>\n",
       "      <th>CINTSCHH</th>\n",
       "      <th>CINONET</th>\n",
       "      <th>CIHSNET</th>\n",
       "    </tr>\n",
       "  </thead>\n",
       "  <tbody>\n",
       "    <tr>\n",
       "      <th>count</th>\n",
       "      <td>1578977.00</td>\n",
       "      <td>1578977.00</td>\n",
       "      <td>1578977.00</td>\n",
       "      <td>1578977.00</td>\n",
       "      <td>1578977.00</td>\n",
       "      <td>1578977.00</td>\n",
       "      <td>1578977.00</td>\n",
       "      <td>1578977.00</td>\n",
       "      <td>654904.00</td>\n",
       "      <td>267633.00</td>\n",
       "      <td>...</td>\n",
       "      <td>269657.00</td>\n",
       "      <td>654416.00</td>\n",
       "      <td>134675.00</td>\n",
       "      <td>387746.00</td>\n",
       "      <td>521669.00</td>\n",
       "      <td>267729.00</td>\n",
       "      <td>521669.00</td>\n",
       "      <td>267729.00</td>\n",
       "      <td>532780.00</td>\n",
       "      <td>667455.00</td>\n",
       "    </tr>\n",
       "    <tr>\n",
       "      <th>mean</th>\n",
       "      <td>2012.61</td>\n",
       "      <td>7.25</td>\n",
       "      <td>28.17</td>\n",
       "      <td>28.08</td>\n",
       "      <td>9700.55</td>\n",
       "      <td>38.54</td>\n",
       "      <td>1.51</td>\n",
       "      <td>157.13</td>\n",
       "      <td>23.79</td>\n",
       "      <td>91.21</td>\n",
       "      <td>...</td>\n",
       "      <td>19.30</td>\n",
       "      <td>15.83</td>\n",
       "      <td>5.61</td>\n",
       "      <td>19.67</td>\n",
       "      <td>38.86</td>\n",
       "      <td>40.38</td>\n",
       "      <td>22.83</td>\n",
       "      <td>40.54</td>\n",
       "      <td>81.83</td>\n",
       "      <td>91.78</td>\n",
       "    </tr>\n",
       "    <tr>\n",
       "      <th>std</th>\n",
       "      <td>2.71</td>\n",
       "      <td>2.63</td>\n",
       "      <td>10.66</td>\n",
       "      <td>16.01</td>\n",
       "      <td>15210.79</td>\n",
       "      <td>22.86</td>\n",
       "      <td>0.50</td>\n",
       "      <td>158.09</td>\n",
       "      <td>41.24</td>\n",
       "      <td>25.99</td>\n",
       "      <td>...</td>\n",
       "      <td>37.22</td>\n",
       "      <td>34.18</td>\n",
       "      <td>19.14</td>\n",
       "      <td>37.86</td>\n",
       "      <td>47.59</td>\n",
       "      <td>47.93</td>\n",
       "      <td>40.60</td>\n",
       "      <td>47.79</td>\n",
       "      <td>36.71</td>\n",
       "      <td>25.34</td>\n",
       "    </tr>\n",
       "    <tr>\n",
       "      <th>min</th>\n",
       "      <td>2009.00</td>\n",
       "      <td>1.00</td>\n",
       "      <td>11.00</td>\n",
       "      <td>1.00</td>\n",
       "      <td>0.00</td>\n",
       "      <td>0.00</td>\n",
       "      <td>1.00</td>\n",
       "      <td>100.00</td>\n",
       "      <td>1.00</td>\n",
       "      <td>1.00</td>\n",
       "      <td>...</td>\n",
       "      <td>1.00</td>\n",
       "      <td>1.00</td>\n",
       "      <td>1.00</td>\n",
       "      <td>1.00</td>\n",
       "      <td>1.00</td>\n",
       "      <td>1.00</td>\n",
       "      <td>1.00</td>\n",
       "      <td>1.00</td>\n",
       "      <td>1.00</td>\n",
       "      <td>1.00</td>\n",
       "    </tr>\n",
       "    <tr>\n",
       "      <th>25%</th>\n",
       "      <td>2010.00</td>\n",
       "      <td>6.00</td>\n",
       "      <td>21.00</td>\n",
       "      <td>13.00</td>\n",
       "      <td>0.00</td>\n",
       "      <td>19.00</td>\n",
       "      <td>1.00</td>\n",
       "      <td>100.00</td>\n",
       "      <td>1.00</td>\n",
       "      <td>99.00</td>\n",
       "      <td>...</td>\n",
       "      <td>2.00</td>\n",
       "      <td>2.00</td>\n",
       "      <td>1.00</td>\n",
       "      <td>1.00</td>\n",
       "      <td>1.00</td>\n",
       "      <td>1.00</td>\n",
       "      <td>1.00</td>\n",
       "      <td>1.00</td>\n",
       "      <td>99.00</td>\n",
       "      <td>99.00</td>\n",
       "    </tr>\n",
       "    <tr>\n",
       "      <th>50%</th>\n",
       "      <td>2012.00</td>\n",
       "      <td>7.00</td>\n",
       "      <td>31.00</td>\n",
       "      <td>28.00</td>\n",
       "      <td>0.00</td>\n",
       "      <td>39.00</td>\n",
       "      <td>2.00</td>\n",
       "      <td>100.00</td>\n",
       "      <td>1.00</td>\n",
       "      <td>99.00</td>\n",
       "      <td>...</td>\n",
       "      <td>2.00</td>\n",
       "      <td>2.00</td>\n",
       "      <td>2.00</td>\n",
       "      <td>2.00</td>\n",
       "      <td>2.00</td>\n",
       "      <td>2.00</td>\n",
       "      <td>1.00</td>\n",
       "      <td>2.00</td>\n",
       "      <td>99.00</td>\n",
       "      <td>99.00</td>\n",
       "    </tr>\n",
       "    <tr>\n",
       "      <th>75%</th>\n",
       "      <td>2015.00</td>\n",
       "      <td>10.00</td>\n",
       "      <td>41.00</td>\n",
       "      <td>42.00</td>\n",
       "      <td>12127.00</td>\n",
       "      <td>57.00</td>\n",
       "      <td>2.00</td>\n",
       "      <td>100.00</td>\n",
       "      <td>2.00</td>\n",
       "      <td>99.00</td>\n",
       "      <td>...</td>\n",
       "      <td>2.00</td>\n",
       "      <td>2.00</td>\n",
       "      <td>2.00</td>\n",
       "      <td>2.00</td>\n",
       "      <td>99.00</td>\n",
       "      <td>99.00</td>\n",
       "      <td>2.00</td>\n",
       "      <td>99.00</td>\n",
       "      <td>99.00</td>\n",
       "      <td>99.00</td>\n",
       "    </tr>\n",
       "    <tr>\n",
       "      <th>max</th>\n",
       "      <td>2017.00</td>\n",
       "      <td>11.00</td>\n",
       "      <td>42.00</td>\n",
       "      <td>56.00</td>\n",
       "      <td>55139.00</td>\n",
       "      <td>85.00</td>\n",
       "      <td>2.00</td>\n",
       "      <td>830.00</td>\n",
       "      <td>99.00</td>\n",
       "      <td>99.00</td>\n",
       "      <td>...</td>\n",
       "      <td>99.00</td>\n",
       "      <td>99.00</td>\n",
       "      <td>99.00</td>\n",
       "      <td>99.00</td>\n",
       "      <td>99.00</td>\n",
       "      <td>99.00</td>\n",
       "      <td>99.00</td>\n",
       "      <td>99.00</td>\n",
       "      <td>99.00</td>\n",
       "      <td>99.00</td>\n",
       "    </tr>\n",
       "  </tbody>\n",
       "</table>\n",
       "<p>8 rows × 41 columns</p>\n",
       "</div>"
      ],
      "text/plain": [
       "             YEAR       MONTH      REGION    STATEFIP      COUNTY         AGE  \\\n",
       "count  1578977.00  1578977.00  1578977.00  1578977.00  1578977.00  1578977.00   \n",
       "mean      2012.61        7.25       28.17       28.08     9700.55       38.54   \n",
       "std          2.71        2.63       10.66       16.01    15210.79       22.86   \n",
       "min       2009.00        1.00       11.00        1.00        0.00        0.00   \n",
       "25%       2010.00        6.00       21.00       13.00        0.00       19.00   \n",
       "50%       2012.00        7.00       31.00       28.00        0.00       39.00   \n",
       "75%       2015.00       10.00       41.00       42.00    12127.00       57.00   \n",
       "max       2017.00       11.00       42.00       56.00    55139.00       85.00   \n",
       "\n",
       "              SEX        RACE  BUNBANKED  BUNDERBANKREAS  ...    CINETHH  \\\n",
       "count  1578977.00  1578977.00  654904.00       267633.00  ...  269657.00   \n",
       "mean         1.51      157.13      23.79           91.21  ...      19.30   \n",
       "std          0.50      158.09      41.24           25.99  ...      37.22   \n",
       "min          1.00      100.00       1.00            1.00  ...       1.00   \n",
       "25%          1.00      100.00       1.00           99.00  ...       2.00   \n",
       "50%          2.00      100.00       1.00           99.00  ...       2.00   \n",
       "75%          2.00      100.00       2.00           99.00  ...       2.00   \n",
       "max          2.00      830.00      99.00           99.00  ...      99.00   \n",
       "\n",
       "         CINETHP    CINTUSE    CINTOUT   CINTOTHH   CINTLIBH    CINTSCH  \\\n",
       "count  654416.00  134675.00  387746.00  521669.00  267729.00  521669.00   \n",
       "mean       15.83       5.61      19.67      38.86      40.38      22.83   \n",
       "std        34.18      19.14      37.86      47.59      47.93      40.60   \n",
       "min         1.00       1.00       1.00       1.00       1.00       1.00   \n",
       "25%         2.00       1.00       1.00       1.00       1.00       1.00   \n",
       "50%         2.00       2.00       2.00       2.00       2.00       1.00   \n",
       "75%         2.00       2.00       2.00      99.00      99.00       2.00   \n",
       "max        99.00      99.00      99.00      99.00      99.00      99.00   \n",
       "\n",
       "        CINTSCHH    CINONET    CIHSNET  \n",
       "count  267729.00  532780.00  667455.00  \n",
       "mean       40.54      81.83      91.78  \n",
       "std        47.79      36.71      25.34  \n",
       "min         1.00       1.00       1.00  \n",
       "25%         1.00      99.00      99.00  \n",
       "50%         2.00      99.00      99.00  \n",
       "75%        99.00      99.00      99.00  \n",
       "max        99.00      99.00      99.00  \n",
       "\n",
       "[8 rows x 41 columns]"
      ]
     },
     "execution_count": 7,
     "metadata": {},
     "output_type": "execute_result"
    }
   ],
   "source": [
    "#examining basic data statistics \n",
    "round(cps_cleaning.describe(), 2)"
   ]
  },
  {
   "cell_type": "code",
   "execution_count": 8,
   "metadata": {},
   "outputs": [
    {
     "data": {
      "text/plain": [
       "YEAR               0.000000\n",
       "MONTH              0.000000\n",
       "REGION             0.000000\n",
       "STATEFIP           0.000000\n",
       "COUNTY             0.000000\n",
       "AGE                0.000000\n",
       "SEX                0.000000\n",
       "RACE               0.000000\n",
       "BUNBANKED         58.523525\n",
       "BUNDERBANKREAS    83.050228\n",
       "BACCTEV           58.523525\n",
       "BCHECKEV          91.516659\n",
       "BCHECK12M         67.006866\n",
       "BCHECKREAS        83.050228\n",
       "BPAYDAY           74.703558\n",
       "BPAYDAYOFT        91.516659\n",
       "BPAYDAYREAS       83.050228\n",
       "BCHECK30D         83.186899\n",
       "BPAYDAY12M        58.523525\n",
       "BPAYDAY30D        83.186899\n",
       "BINCWHERE         83.819967\n",
       "BBILLCASH         83.819967\n",
       "BBILLCHECK        83.819967\n",
       "BCREDITAPP        83.819967\n",
       "BCREDITDENY       83.819967\n",
       "BNOACCT           75.473297\n",
       "BSAVECACCT        83.819967\n",
       "BINC12M           83.819967\n",
       "BINTERNET         83.819967\n",
       "BPSUPINT          58.523525\n",
       "CIHHCOMP          91.451300\n",
       "CINETHH           82.922044\n",
       "CINETHP           58.554431\n",
       "CINTUSE           91.470743\n",
       "CINTOUT           75.443214\n",
       "CINTOTHH          66.961583\n",
       "CINTLIBH          83.044148\n",
       "CINTSCH           66.961583\n",
       "CINTSCHH          83.044148\n",
       "CINONET           66.257900\n",
       "CIHSNET           57.728643\n",
       "dtype: float64"
      ]
     },
     "execution_count": 8,
     "metadata": {},
     "output_type": "execute_result"
    }
   ],
   "source": [
    "#examining null values as percentages\n",
    "cps_cleaning.isnull().sum()/len(cps_cleaning)*100"
   ]
  },
  {
   "cell_type": "code",
   "execution_count": 9,
   "metadata": {
    "cell_style": "center"
   },
   "outputs": [
    {
     "name": "stdout",
     "output_type": "stream",
     "text": [
      "<class 'pandas.core.frame.DataFrame'>\n",
      "RangeIndex: 1578977 entries, 0 to 1578976\n",
      "Data columns (total 41 columns):\n",
      " #   Column          Non-Null Count    Dtype  \n",
      "---  ------          --------------    -----  \n",
      " 0   YEAR            1578977 non-null  int64  \n",
      " 1   MONTH           1578977 non-null  int64  \n",
      " 2   REGION          1578977 non-null  int64  \n",
      " 3   STATEFIP        1578977 non-null  int64  \n",
      " 4   COUNTY          1578977 non-null  int64  \n",
      " 5   AGE             1578977 non-null  int64  \n",
      " 6   SEX             1578977 non-null  int64  \n",
      " 7   RACE            1578977 non-null  int64  \n",
      " 8   BUNBANKED       654904 non-null   float64\n",
      " 9   BUNDERBANKREAS  267633 non-null   float64\n",
      " 10  BACCTEV         654904 non-null   float64\n",
      " 11  BCHECKEV        133950 non-null   float64\n",
      " 12  BCHECK12M       520954 non-null   float64\n",
      " 13  BCHECKREAS      267633 non-null   float64\n",
      " 14  BPAYDAY         399425 non-null   float64\n",
      " 15  BPAYDAYOFT      133950 non-null   float64\n",
      " 16  BPAYDAYREAS     267633 non-null   float64\n",
      " 17  BCHECK30D       265475 non-null   float64\n",
      " 18  BPAYDAY12M      654904 non-null   float64\n",
      " 19  BPAYDAY30D      265475 non-null   float64\n",
      " 20  BINCWHERE       255479 non-null   float64\n",
      " 21  BBILLCASH       255479 non-null   float64\n",
      " 22  BBILLCHECK      255479 non-null   float64\n",
      " 23  BCREDITAPP      255479 non-null   float64\n",
      " 24  BCREDITDENY     255479 non-null   float64\n",
      " 25  BNOACCT         387271 non-null   float64\n",
      " 26  BSAVECACCT      255479 non-null   float64\n",
      " 27  BINC12M         255479 non-null   float64\n",
      " 28  BINTERNET       255479 non-null   float64\n",
      " 29  BPSUPINT        654904 non-null   float64\n",
      " 30  CIHHCOMP        134982 non-null   float64\n",
      " 31  CINETHH         269657 non-null   float64\n",
      " 32  CINETHP         654416 non-null   float64\n",
      " 33  CINTUSE         134675 non-null   float64\n",
      " 34  CINTOUT         387746 non-null   float64\n",
      " 35  CINTOTHH        521669 non-null   float64\n",
      " 36  CINTLIBH        267729 non-null   float64\n",
      " 37  CINTSCH         521669 non-null   float64\n",
      " 38  CINTSCHH        267729 non-null   float64\n",
      " 39  CINONET         532780 non-null   float64\n",
      " 40  CIHSNET         667455 non-null   float64\n",
      "dtypes: float64(33), int64(8)\n",
      "memory usage: 493.9 MB\n"
     ]
    }
   ],
   "source": [
    "#examining current data types\n",
    "cps_cleaning.info()"
   ]
  },
  {
   "cell_type": "code",
   "execution_count": 10,
   "metadata": {},
   "outputs": [],
   "source": [
    "#isolated those who responded to question battery about underbanked status\n",
    "cps_cleaning_sub = cps_cleaning[cps_cleaning.BPSUPINT==1]"
   ]
  },
  {
   "cell_type": "code",
   "execution_count": 11,
   "metadata": {
    "cell_style": "center"
   },
   "outputs": [
    {
     "data": {
      "text/plain": [
       "1.0    93.134268\n",
       "2.0     6.865732\n",
       "Name: BUNBANKED, dtype: float64"
      ]
     },
     "execution_count": 11,
     "metadata": {},
     "output_type": "execute_result"
    }
   ],
   "source": [
    "cps_cleaning_sub.BUNBANKED.value_counts()/len(cps_cleaning_sub)*100"
   ]
  },
  {
   "cell_type": "markdown",
   "metadata": {},
   "source": [
    "Of the subset selected, 93% are unbanked. "
   ]
  },
  {
   "cell_type": "code",
   "execution_count": 12,
   "metadata": {
    "cell_style": "center"
   },
   "outputs": [
    {
     "data": {
      "text/plain": [
       "99.0    204546\n",
       "2.0       8466\n",
       "10.0      5096\n",
       "1.0       3487\n",
       "8.0       1427\n",
       "3.0       1150\n",
       "4.0        899\n",
       "5.0        478\n",
       "6.0        420\n",
       "7.0        369\n",
       "97.0       350\n",
       "11.0       209\n",
       "96.0       126\n",
       "9.0         49\n",
       "98.0        18\n",
       "Name: BUNDERBANKREAS, dtype: int64"
      ]
     },
     "execution_count": 12,
     "metadata": {},
     "output_type": "execute_result"
    }
   ],
   "source": [
    "#examining the breakdown of reasons alternative banking methods were utilized. \n",
    "cps_cleaning_sub.BUNDERBANKREAS.value_counts()"
   ]
  },
  {
   "cell_type": "code",
   "execution_count": 13,
   "metadata": {
    "cell_style": "center"
   },
   "outputs": [
    {
     "data": {
      "text/plain": [
       "YEAR                0.000000\n",
       "MONTH               0.000000\n",
       "REGION              0.000000\n",
       "STATEFIP            0.000000\n",
       "COUNTY              0.000000\n",
       "AGE                 0.000000\n",
       "SEX                 0.000000\n",
       "RACE                0.000000\n",
       "BUNBANKED           0.000000\n",
       "BUNDERBANKREAS     54.399141\n",
       "BACCTEV             0.000000\n",
       "BCHECKEV           76.725871\n",
       "BCHECK12M          23.274129\n",
       "BCHECKREAS         54.399141\n",
       "BPAYDAY            34.252151\n",
       "BPAYDAYOFT         76.725871\n",
       "BPAYDAYREAS        54.399141\n",
       "BCHECK30D          57.526280\n",
       "BPAYDAY12M          0.000000\n",
       "BPAYDAY30D         57.526280\n",
       "BINCWHERE          65.747849\n",
       "BBILLCASH          65.747849\n",
       "BBILLCHECK         65.747849\n",
       "BCREDITAPP         65.747849\n",
       "BCREDITDENY        65.747849\n",
       "BNOACCT            45.600859\n",
       "BSAVECACCT         65.747849\n",
       "BINC12M            65.747849\n",
       "BINTERNET          65.747849\n",
       "BPSUPINT            0.000000\n",
       "CIHHCOMP          100.000000\n",
       "CINETHH           100.000000\n",
       "CINETHP           100.000000\n",
       "CINTUSE           100.000000\n",
       "CINTOUT           100.000000\n",
       "CINTOTHH          100.000000\n",
       "CINTLIBH          100.000000\n",
       "CINTSCH           100.000000\n",
       "CINTSCHH          100.000000\n",
       "CINONET           100.000000\n",
       "CIHSNET           100.000000\n",
       "dtype: float64"
      ]
     },
     "execution_count": 13,
     "metadata": {},
     "output_type": "execute_result"
    }
   ],
   "source": [
    "#Missing null data point percentages for sub population\n",
    "cps_cleaning_sub.isnull().sum()*100/len(cps_cleaning_sub)"
   ]
  },
  {
   "cell_type": "code",
   "execution_count": 14,
   "metadata": {},
   "outputs": [
    {
     "data": {
      "text/plain": [
       "(497995, 41)"
      ]
     },
     "execution_count": 14,
     "metadata": {},
     "output_type": "execute_result"
    }
   ],
   "source": [
    "#examing dimentions of sub population after isolation\n",
    "cps_cleaning_sub.shape"
   ]
  },
  {
   "cell_type": "code",
   "execution_count": 15,
   "metadata": {},
   "outputs": [],
   "source": [
    "#isolating underbanked population\n",
    "cps_underbanked = cps_cleaning_sub[cps_cleaning_sub.BUNBANKED==1]"
   ]
  },
  {
   "cell_type": "code",
   "execution_count": 16,
   "metadata": {
    "cell_style": "center"
   },
   "outputs": [
    {
     "data": {
      "text/plain": [
       "YEAR                0.000000\n",
       "MONTH               0.000000\n",
       "REGION              0.000000\n",
       "STATEFIP            0.000000\n",
       "COUNTY              0.000000\n",
       "AGE                 0.000000\n",
       "SEX                 0.000000\n",
       "RACE                0.000000\n",
       "BUNBANKED           0.000000\n",
       "BUNDERBANKREAS     54.575640\n",
       "BACCTEV             0.000000\n",
       "BCHECKEV           76.767341\n",
       "BCHECK12M          23.232659\n",
       "BCHECKREAS         54.575640\n",
       "BPAYDAY            34.460246\n",
       "BPAYDAYOFT         76.767341\n",
       "BPAYDAYREAS        54.575640\n",
       "BCHECK30D          57.692905\n",
       "BPAYDAY12M          0.000000\n",
       "BPAYDAY30D         57.692905\n",
       "BINCWHERE          65.539754\n",
       "BBILLCASH          65.539754\n",
       "BBILLCHECK         65.539754\n",
       "BCREDITAPP         65.539754\n",
       "BCREDITDENY        65.539754\n",
       "BNOACCT            45.424360\n",
       "BSAVECACCT         65.539754\n",
       "BINC12M            65.539754\n",
       "BINTERNET          65.539754\n",
       "BPSUPINT            0.000000\n",
       "CIHHCOMP          100.000000\n",
       "CINETHH           100.000000\n",
       "CINETHP           100.000000\n",
       "CINTUSE           100.000000\n",
       "CINTOUT           100.000000\n",
       "CINTOTHH          100.000000\n",
       "CINTLIBH          100.000000\n",
       "CINTSCH           100.000000\n",
       "CINTSCHH          100.000000\n",
       "CINONET           100.000000\n",
       "CIHSNET           100.000000\n",
       "dtype: float64"
      ]
     },
     "execution_count": 16,
     "metadata": {},
     "output_type": "execute_result"
    }
   ],
   "source": [
    "#Missing null data point percentages for unbanked population\n",
    "cps_underbanked.isnull().sum()*100/len(cps_underbanked)"
   ]
  },
  {
   "cell_type": "markdown",
   "metadata": {},
   "source": [
    "There are numerous variables missing  sizable if not all data. Will need to refer to documentation to strategies addressing these variables."
   ]
  },
  {
   "cell_type": "code",
   "execution_count": 17,
   "metadata": {},
   "outputs": [
    {
     "name": "stdout",
     "output_type": "stream",
     "text": [
      "Missing Value Percentages:\n"
     ]
    },
    {
     "data": {
      "text/plain": [
       "2.0     20.610430\n",
       "1.0      1.991358\n",
       "99.0     0.434882\n",
       "96.0     0.071151\n",
       "97.0     0.065761\n",
       "98.0     0.059077\n",
       "Name: BCHECKEV, dtype: float64"
      ]
     },
     "execution_count": 17,
     "metadata": {},
     "output_type": "execute_result"
    }
   ],
   "source": [
    "#examining the breakdown of why alternative banking is utilized\n",
    "print(\"Missing Value Percentages:\")\n",
    "cps_underbanked.BCHECKEV.value_counts()*100/len(cps_underbanked)"
   ]
  },
  {
   "cell_type": "code",
   "execution_count": 18,
   "metadata": {},
   "outputs": [
    {
     "data": {
      "text/plain": [
       "2009    115904\n",
       "2011    111186\n",
       "2013    100331\n",
       "2015     87069\n",
       "2017     83505\n",
       "Name: YEAR, dtype: int64"
      ]
     },
     "execution_count": 18,
     "metadata": {},
     "output_type": "execute_result"
    }
   ],
   "source": [
    "#confirming the years data was collected for our sample\n",
    "cps_cleaning_sub.YEAR.value_counts()"
   ]
  },
  {
   "cell_type": "code",
   "execution_count": 20,
   "metadata": {},
   "outputs": [],
   "source": [
    "#isolating demographic information\n",
    "demo_vars = list(cps_cleaning_sub.columns)[:8]"
   ]
  },
  {
   "cell_type": "code",
   "execution_count": 21,
   "metadata": {},
   "outputs": [],
   "source": [
    "#isolating categorical variables for transformation and analysis. \n",
    "cat_vars = list(cps_cleaning_sub.columns)[8:]"
   ]
  },
  {
   "cell_type": "code",
   "execution_count": 22,
   "metadata": {},
   "outputs": [
    {
     "data": {
      "text/plain": [
       "BUNBANKED         float64\n",
       "BUNDERBANKREAS    float64\n",
       "BACCTEV           float64\n",
       "BCHECKEV          float64\n",
       "BCHECK12M         float64\n",
       "BCHECKREAS        float64\n",
       "BPAYDAY           float64\n",
       "BPAYDAYOFT        float64\n",
       "BPAYDAYREAS       float64\n",
       "BCHECK30D         float64\n",
       "BPAYDAY12M        float64\n",
       "BPAYDAY30D        float64\n",
       "BINCWHERE         float64\n",
       "BBILLCASH         float64\n",
       "BBILLCHECK        float64\n",
       "BCREDITAPP        float64\n",
       "BCREDITDENY       float64\n",
       "BNOACCT           float64\n",
       "BSAVECACCT        float64\n",
       "BINC12M           float64\n",
       "BINTERNET         float64\n",
       "BPSUPINT          float64\n",
       "CIHHCOMP          float64\n",
       "CINETHH           float64\n",
       "CINETHP           float64\n",
       "CINTUSE           float64\n",
       "CINTOUT           float64\n",
       "CINTOTHH          float64\n",
       "CINTLIBH          float64\n",
       "CINTSCH           float64\n",
       "CINTSCHH          float64\n",
       "CINONET           float64\n",
       "CIHSNET           float64\n",
       "dtype: object"
      ]
     },
     "execution_count": 22,
     "metadata": {},
     "output_type": "execute_result"
    }
   ],
   "source": [
    "#confirmting the data type for categorical variables\n",
    "cps_cleaning_sub[cat_vars].dtypes"
   ]
  },
  {
   "cell_type": "code",
   "execution_count": 28,
   "metadata": {},
   "outputs": [
    {
     "data": {
      "text/plain": [
       "<matplotlib.axes._subplots.AxesSubplot at 0x17c500a39e8>"
      ]
     },
     "execution_count": 28,
     "metadata": {},
     "output_type": "execute_result"
    },
    {
     "data": {
      "image/png": "[encoded data removed]",
      "text/plain": [
       "<Figure size 432x288 with 1 Axes>"
      ]
     },
     "metadata": {
      "needs_background": "light"
     },
     "output_type": "display_data"
    }
   ],
   "source": [
    "cps_cleaning_sub.BUNBANKED.plot.hist()"
   ]
  },
  {
   "cell_type": "code",
   "execution_count": 23,
   "metadata": {},
   "outputs": [
    {
     "data": {
      "text/plain": [
       "<matplotlib.axes._subplots.AxesSubplot at 0x17c5042cd68>"
      ]
     },
     "execution_count": 23,
     "metadata": {},
     "output_type": "execute_result"
    },
    {
     "data": {
      "image/png": "[encoded data removed]",
      "text/plain": [
       "<Figure size 432x288 with 1 Axes>"
      ]
     },
     "metadata": {
      "needs_background": "light"
     },
     "output_type": "display_data"
    }
   ],
   "source": [
    "#visualizing data missingness for final dataframe\n",
    "sns.heatmap(cps_underbanked.isnull(), cbar=False)"
   ]
  },
  {
   "cell_type": "markdown",
   "metadata": {},
   "source": [
    "# Need to add non categorical back to dataframe"
   ]
  },
  {
   "cell_type": "markdown",
   "metadata": {},
   "source": [
    "## USA "
   ]
  },
  {
   "cell_type": "code",
   "execution_count": 51,
   "metadata": {},
   "outputs": [],
   "source": [
    "usa = dd.read_csv(\"../data/raw/usa_00005-002/usa_00005-002.csv\")"
   ]
  }
 ],
 "metadata": {
  "kernelspec": {
   "display_name": "Python 3",
   "language": "python",
   "name": "python3"
  },
  "language_info": {
   "codemirror_mode": {
    "name": "ipython",
    "version": 3
   },
   "file_extension": ".py",
   "mimetype": "text/x-python",
   "name": "python",
   "nbconvert_exporter": "python",
   "pygments_lexer": "ipython3",
   "version": "3.7.3"
  }
 },
 "nbformat": 4,
 "nbformat_minor": 2
}
