{
 "cells": [
  {
   "cell_type": "code",
   "execution_count": 47,
   "metadata": {
    "cell_style": "center"
   },
   "outputs": [],
   "source": [
    "import pandas as pd\n",
    "import dask.dataframe as dd\n",
    "import matplotlib.pyplot as plt\n",
    "import seaborn as sns\n",
    "import numpy as np\n",
    "from sklearn.impute import KNNImputer"
   ]
  },
  {
   "cell_type": "code",
   "execution_count": 2,
   "metadata": {},
   "outputs": [],
   "source": [
    "#reading in CPS data\n",
    "cps_copy = pd.read_csv(\"../data/raw/cps_00050.zip\")"
   ]
  },
  {
   "cell_type": "code",
   "execution_count": 11,
   "metadata": {},
   "outputs": [],
   "source": [
    "#creating CPS copy for manipulation\n",
    "cps_cleaning = cps_copy.copy()"
   ]
  },
  {
   "cell_type": "code",
   "execution_count": 12,
   "metadata": {},
   "outputs": [
    {
     "data": {
      "text/plain": [
       "(1578977, 161)"
      ]
     },
     "execution_count": 12,
     "metadata": {},
     "output_type": "execute_result"
    }
   ],
   "source": [
    "#seeing data structure\n",
    "cps_cleaning.shape"
   ]
  },
  {
   "cell_type": "code",
   "execution_count": 13,
   "metadata": {
    "cell_style": "center"
   },
   "outputs": [
    {
     "data": {
      "text/plain": [
       "Index(['YEAR', 'SERIAL', 'MONTH', 'HWTFINL', 'CPSID', 'REGION', 'STATEFIP',\n",
       "       'COUNTY', 'BPSUPINT', 'BUNBANKED',\n",
       "       ...\n",
       "       'QCINTSCH', 'QCINTUSE', 'QCINUMCMP', 'QCISTPNET', 'QCIUSECMP', 'CIPWT',\n",
       "       'CISUPPWT', 'UBSUPPWT', 'BPACCT', 'BWHOACCT'],\n",
       "      dtype='object', length=161)"
      ]
     },
     "execution_count": 13,
     "metadata": {},
     "output_type": "execute_result"
    }
   ],
   "source": [
    "#reviewing CPS columns\n",
    "cps_cleaning.columns"
   ]
  },
  {
   "cell_type": "code",
   "execution_count": 14,
   "metadata": {},
   "outputs": [],
   "source": [
    "#isolating variables of interest\n",
    "cps_cleaning = cps_cleaning[[\"YEAR\", \"MONTH\", \"REGION\", \"STATEFIP\", \"COUNTY\", \"BUNBANKED\", \"BUNDERBANKREAS\", \"BACCTEV\", \"BCHECKEV\", \"BCHECK12M\", \"BCHECKREAS\", \n",
    "                 \"BPAYDAY\", \"BPAYDAYOFT\", \"BPAYDAYREAS\", \"BCHECK30D\", \"BPAYDAY12M\", \"BPAYDAY30D\", \"BINCWHERE\", \n",
    "                 \"BBILLCASH\", \"BBILLCHECK\", \"BCREDITAPP\", \"BCREDITDENY\", \"BSAVECACCT\", \"BINC12M\", \"BINTERNET\", \n",
    "                         \"BPSUPINT\"]]"
   ]
  },
  {
   "cell_type": "code",
   "execution_count": 15,
   "metadata": {
    "cell_style": "center"
   },
   "outputs": [
    {
     "data": {
      "text/html": [
       "<div>\n",
       "<style scoped>\n",
       "    .dataframe tbody tr th:only-of-type {\n",
       "        vertical-align: middle;\n",
       "    }\n",
       "\n",
       "    .dataframe tbody tr th {\n",
       "        vertical-align: top;\n",
       "    }\n",
       "\n",
       "    .dataframe thead th {\n",
       "        text-align: right;\n",
       "    }\n",
       "</style>\n",
       "<table border=\"1\" class=\"dataframe\">\n",
       "  <thead>\n",
       "    <tr style=\"text-align: right;\">\n",
       "      <th></th>\n",
       "      <th>YEAR</th>\n",
       "      <th>MONTH</th>\n",
       "      <th>REGION</th>\n",
       "      <th>STATEFIP</th>\n",
       "      <th>COUNTY</th>\n",
       "      <th>BUNBANKED</th>\n",
       "      <th>BUNDERBANKREAS</th>\n",
       "      <th>BACCTEV</th>\n",
       "      <th>BCHECKEV</th>\n",
       "      <th>BCHECK12M</th>\n",
       "      <th>...</th>\n",
       "      <th>BPAYDAY30D</th>\n",
       "      <th>BINCWHERE</th>\n",
       "      <th>BBILLCASH</th>\n",
       "      <th>BBILLCHECK</th>\n",
       "      <th>BCREDITAPP</th>\n",
       "      <th>BCREDITDENY</th>\n",
       "      <th>BSAVECACCT</th>\n",
       "      <th>BINC12M</th>\n",
       "      <th>BINTERNET</th>\n",
       "      <th>BPSUPINT</th>\n",
       "    </tr>\n",
       "  </thead>\n",
       "  <tbody>\n",
       "    <tr>\n",
       "      <th>count</th>\n",
       "      <td>1578977.00</td>\n",
       "      <td>1578977.00</td>\n",
       "      <td>1578977.00</td>\n",
       "      <td>1578977.00</td>\n",
       "      <td>1578977.00</td>\n",
       "      <td>654904.00</td>\n",
       "      <td>267633.00</td>\n",
       "      <td>654904.00</td>\n",
       "      <td>133950.00</td>\n",
       "      <td>520954.00</td>\n",
       "      <td>...</td>\n",
       "      <td>265475.00</td>\n",
       "      <td>255479.00</td>\n",
       "      <td>255479.00</td>\n",
       "      <td>255479.00</td>\n",
       "      <td>255479.00</td>\n",
       "      <td>255479.00</td>\n",
       "      <td>255479.00</td>\n",
       "      <td>255479.00</td>\n",
       "      <td>255479.00</td>\n",
       "      <td>654904.00</td>\n",
       "    </tr>\n",
       "    <tr>\n",
       "      <th>mean</th>\n",
       "      <td>2012.61</td>\n",
       "      <td>7.25</td>\n",
       "      <td>28.17</td>\n",
       "      <td>28.08</td>\n",
       "      <td>9700.55</td>\n",
       "      <td>23.79</td>\n",
       "      <td>91.21</td>\n",
       "      <td>94.04</td>\n",
       "      <td>17.55</td>\n",
       "      <td>63.53</td>\n",
       "      <td>...</td>\n",
       "      <td>97.42</td>\n",
       "      <td>96.65</td>\n",
       "      <td>37.91</td>\n",
       "      <td>40.99</td>\n",
       "      <td>38.91</td>\n",
       "      <td>90.02</td>\n",
       "      <td>63.90</td>\n",
       "      <td>38.36</td>\n",
       "      <td>38.14</td>\n",
       "      <td>1.24</td>\n",
       "    </tr>\n",
       "    <tr>\n",
       "      <th>std</th>\n",
       "      <td>2.71</td>\n",
       "      <td>2.63</td>\n",
       "      <td>10.66</td>\n",
       "      <td>16.01</td>\n",
       "      <td>15210.79</td>\n",
       "      <td>41.24</td>\n",
       "      <td>25.99</td>\n",
       "      <td>21.42</td>\n",
       "      <td>35.69</td>\n",
       "      <td>46.75</td>\n",
       "      <td>...</td>\n",
       "      <td>12.31</td>\n",
       "      <td>14.97</td>\n",
       "      <td>46.89</td>\n",
       "      <td>47.89</td>\n",
       "      <td>47.11</td>\n",
       "      <td>28.14</td>\n",
       "      <td>46.69</td>\n",
       "      <td>47.34</td>\n",
       "      <td>47.36</td>\n",
       "      <td>0.43</td>\n",
       "    </tr>\n",
       "    <tr>\n",
       "      <th>min</th>\n",
       "      <td>2009.00</td>\n",
       "      <td>1.00</td>\n",
       "      <td>11.00</td>\n",
       "      <td>1.00</td>\n",
       "      <td>0.00</td>\n",
       "      <td>1.00</td>\n",
       "      <td>1.00</td>\n",
       "      <td>1.00</td>\n",
       "      <td>1.00</td>\n",
       "      <td>1.00</td>\n",
       "      <td>...</td>\n",
       "      <td>1.00</td>\n",
       "      <td>1.00</td>\n",
       "      <td>1.00</td>\n",
       "      <td>1.00</td>\n",
       "      <td>1.00</td>\n",
       "      <td>1.00</td>\n",
       "      <td>1.00</td>\n",
       "      <td>1.00</td>\n",
       "      <td>1.00</td>\n",
       "      <td>1.00</td>\n",
       "    </tr>\n",
       "    <tr>\n",
       "      <th>25%</th>\n",
       "      <td>2010.00</td>\n",
       "      <td>6.00</td>\n",
       "      <td>21.00</td>\n",
       "      <td>13.00</td>\n",
       "      <td>0.00</td>\n",
       "      <td>1.00</td>\n",
       "      <td>99.00</td>\n",
       "      <td>99.00</td>\n",
       "      <td>2.00</td>\n",
       "      <td>2.00</td>\n",
       "      <td>...</td>\n",
       "      <td>99.00</td>\n",
       "      <td>99.00</td>\n",
       "      <td>2.00</td>\n",
       "      <td>1.00</td>\n",
       "      <td>2.00</td>\n",
       "      <td>99.00</td>\n",
       "      <td>2.00</td>\n",
       "      <td>1.00</td>\n",
       "      <td>1.00</td>\n",
       "      <td>1.00</td>\n",
       "    </tr>\n",
       "    <tr>\n",
       "      <th>50%</th>\n",
       "      <td>2012.00</td>\n",
       "      <td>7.00</td>\n",
       "      <td>31.00</td>\n",
       "      <td>28.00</td>\n",
       "      <td>0.00</td>\n",
       "      <td>1.00</td>\n",
       "      <td>99.00</td>\n",
       "      <td>99.00</td>\n",
       "      <td>2.00</td>\n",
       "      <td>99.00</td>\n",
       "      <td>...</td>\n",
       "      <td>99.00</td>\n",
       "      <td>99.00</td>\n",
       "      <td>2.00</td>\n",
       "      <td>2.00</td>\n",
       "      <td>2.00</td>\n",
       "      <td>99.00</td>\n",
       "      <td>99.00</td>\n",
       "      <td>2.00</td>\n",
       "      <td>1.00</td>\n",
       "      <td>1.00</td>\n",
       "    </tr>\n",
       "    <tr>\n",
       "      <th>75%</th>\n",
       "      <td>2015.00</td>\n",
       "      <td>10.00</td>\n",
       "      <td>41.00</td>\n",
       "      <td>42.00</td>\n",
       "      <td>12127.00</td>\n",
       "      <td>2.00</td>\n",
       "      <td>99.00</td>\n",
       "      <td>99.00</td>\n",
       "      <td>2.00</td>\n",
       "      <td>99.00</td>\n",
       "      <td>...</td>\n",
       "      <td>99.00</td>\n",
       "      <td>99.00</td>\n",
       "      <td>99.00</td>\n",
       "      <td>99.00</td>\n",
       "      <td>99.00</td>\n",
       "      <td>99.00</td>\n",
       "      <td>99.00</td>\n",
       "      <td>99.00</td>\n",
       "      <td>99.00</td>\n",
       "      <td>1.00</td>\n",
       "    </tr>\n",
       "    <tr>\n",
       "      <th>max</th>\n",
       "      <td>2017.00</td>\n",
       "      <td>11.00</td>\n",
       "      <td>42.00</td>\n",
       "      <td>56.00</td>\n",
       "      <td>55139.00</td>\n",
       "      <td>99.00</td>\n",
       "      <td>99.00</td>\n",
       "      <td>99.00</td>\n",
       "      <td>99.00</td>\n",
       "      <td>99.00</td>\n",
       "      <td>...</td>\n",
       "      <td>99.00</td>\n",
       "      <td>99.00</td>\n",
       "      <td>99.00</td>\n",
       "      <td>99.00</td>\n",
       "      <td>99.00</td>\n",
       "      <td>99.00</td>\n",
       "      <td>99.00</td>\n",
       "      <td>99.00</td>\n",
       "      <td>99.00</td>\n",
       "      <td>2.00</td>\n",
       "    </tr>\n",
       "  </tbody>\n",
       "</table>\n",
       "<p>8 rows × 26 columns</p>\n",
       "</div>"
      ],
      "text/plain": [
       "             YEAR       MONTH      REGION    STATEFIP      COUNTY  BUNBANKED  \\\n",
       "count  1578977.00  1578977.00  1578977.00  1578977.00  1578977.00  654904.00   \n",
       "mean      2012.61        7.25       28.17       28.08     9700.55      23.79   \n",
       "std          2.71        2.63       10.66       16.01    15210.79      41.24   \n",
       "min       2009.00        1.00       11.00        1.00        0.00       1.00   \n",
       "25%       2010.00        6.00       21.00       13.00        0.00       1.00   \n",
       "50%       2012.00        7.00       31.00       28.00        0.00       1.00   \n",
       "75%       2015.00       10.00       41.00       42.00    12127.00       2.00   \n",
       "max       2017.00       11.00       42.00       56.00    55139.00      99.00   \n",
       "\n",
       "       BUNDERBANKREAS    BACCTEV   BCHECKEV  BCHECK12M  ...  BPAYDAY30D  \\\n",
       "count       267633.00  654904.00  133950.00  520954.00  ...   265475.00   \n",
       "mean            91.21      94.04      17.55      63.53  ...       97.42   \n",
       "std             25.99      21.42      35.69      46.75  ...       12.31   \n",
       "min              1.00       1.00       1.00       1.00  ...        1.00   \n",
       "25%             99.00      99.00       2.00       2.00  ...       99.00   \n",
       "50%             99.00      99.00       2.00      99.00  ...       99.00   \n",
       "75%             99.00      99.00       2.00      99.00  ...       99.00   \n",
       "max             99.00      99.00      99.00      99.00  ...       99.00   \n",
       "\n",
       "       BINCWHERE  BBILLCASH  BBILLCHECK  BCREDITAPP  BCREDITDENY  BSAVECACCT  \\\n",
       "count  255479.00  255479.00   255479.00   255479.00    255479.00   255479.00   \n",
       "mean       96.65      37.91       40.99       38.91        90.02       63.90   \n",
       "std        14.97      46.89       47.89       47.11        28.14       46.69   \n",
       "min         1.00       1.00        1.00        1.00         1.00        1.00   \n",
       "25%        99.00       2.00        1.00        2.00        99.00        2.00   \n",
       "50%        99.00       2.00        2.00        2.00        99.00       99.00   \n",
       "75%        99.00      99.00       99.00       99.00        99.00       99.00   \n",
       "max        99.00      99.00       99.00       99.00        99.00       99.00   \n",
       "\n",
       "         BINC12M  BINTERNET   BPSUPINT  \n",
       "count  255479.00  255479.00  654904.00  \n",
       "mean       38.36      38.14       1.24  \n",
       "std        47.34      47.36       0.43  \n",
       "min         1.00       1.00       1.00  \n",
       "25%         1.00       1.00       1.00  \n",
       "50%         2.00       1.00       1.00  \n",
       "75%        99.00      99.00       1.00  \n",
       "max        99.00      99.00       2.00  \n",
       "\n",
       "[8 rows x 26 columns]"
      ]
     },
     "execution_count": 15,
     "metadata": {},
     "output_type": "execute_result"
    }
   ],
   "source": [
    "#examining basic data statistics \n",
    "round(cps_cleaning.describe(), 2)"
   ]
  },
  {
   "cell_type": "code",
   "execution_count": 19,
   "metadata": {},
   "outputs": [
    {
     "data": {
      "text/plain": [
       "YEAR               0.000000\n",
       "MONTH              0.000000\n",
       "REGION             0.000000\n",
       "STATEFIP           0.000000\n",
       "COUNTY             0.000000\n",
       "BUNBANKED         58.523525\n",
       "BUNDERBANKREAS    83.050228\n",
       "BACCTEV           58.523525\n",
       "BCHECKEV          91.516659\n",
       "BCHECK12M         67.006866\n",
       "BCHECKREAS        83.050228\n",
       "BPAYDAY           74.703558\n",
       "BPAYDAYOFT        91.516659\n",
       "BPAYDAYREAS       83.050228\n",
       "BCHECK30D         83.186899\n",
       "BPAYDAY12M        58.523525\n",
       "BPAYDAY30D        83.186899\n",
       "BINCWHERE         83.819967\n",
       "BBILLCASH         83.819967\n",
       "BBILLCHECK        83.819967\n",
       "BCREDITAPP        83.819967\n",
       "BCREDITDENY       83.819967\n",
       "BSAVECACCT        83.819967\n",
       "BINC12M           83.819967\n",
       "BINTERNET         83.819967\n",
       "BPSUPINT          58.523525\n",
       "dtype: float64"
      ]
     },
     "execution_count": 19,
     "metadata": {},
     "output_type": "execute_result"
    }
   ],
   "source": [
    "#examining null values as percentages\n",
    "cps_cleaning.isnull().sum()/len(cps_cleaning)*100"
   ]
  },
  {
   "cell_type": "code",
   "execution_count": 58,
   "metadata": {
    "cell_style": "center"
   },
   "outputs": [
    {
     "name": "stdout",
     "output_type": "stream",
     "text": [
      "<class 'pandas.core.frame.DataFrame'>\n",
      "RangeIndex: 1578977 entries, 0 to 1578976\n",
      "Data columns (total 21 columns):\n",
      " #   Column          Non-Null Count   Dtype  \n",
      "---  ------          --------------   -----  \n",
      " 0   BUNBANKED       654904 non-null  float64\n",
      " 1   BUNDERBANKREAS  267633 non-null  float64\n",
      " 2   BACCTEV         654904 non-null  float64\n",
      " 3   BCHECKEV        133950 non-null  float64\n",
      " 4   BCHECK12M       520954 non-null  float64\n",
      " 5   BCHECKREAS      267633 non-null  float64\n",
      " 6   BPAYDAY         399425 non-null  float64\n",
      " 7   BPAYDAYOFT      133950 non-null  float64\n",
      " 8   BPAYDAYREAS     267633 non-null  float64\n",
      " 9   BCHECK30D       265475 non-null  float64\n",
      " 10  BPAYDAY12M      654904 non-null  float64\n",
      " 11  BPAYDAY30D      265475 non-null  float64\n",
      " 12  BINCWHERE       255479 non-null  float64\n",
      " 13  BBILLCASH       255479 non-null  float64\n",
      " 14  BBILLCHECK      255479 non-null  float64\n",
      " 15  BCREDITAPP      255479 non-null  float64\n",
      " 16  BCREDITDENY     255479 non-null  float64\n",
      " 17  BSAVECACCT      255479 non-null  float64\n",
      " 18  BINC12M         255479 non-null  float64\n",
      " 19  BINTERNET       255479 non-null  float64\n",
      " 20  BPSUPINT        654904 non-null  float64\n",
      "dtypes: float64(21)\n",
      "memory usage: 253.0 MB\n"
     ]
    }
   ],
   "source": [
    "#examining current data types\n",
    "cps_cleaning.info()"
   ]
  },
  {
   "cell_type": "code",
   "execution_count": 20,
   "metadata": {},
   "outputs": [],
   "source": [
    "#isolated those who responded to question battery about underbanked status\n",
    "cps_cleaning_sub = cps_cleaning[cps_cleaning.BPSUPINT==1]"
   ]
  },
  {
   "cell_type": "code",
   "execution_count": 22,
   "metadata": {
    "cell_style": "center"
   },
   "outputs": [
    {
     "data": {
      "text/plain": [
       "1.0    93.134268\n",
       "2.0     6.865732\n",
       "Name: BUNBANKED, dtype: float64"
      ]
     },
     "execution_count": 22,
     "metadata": {},
     "output_type": "execute_result"
    }
   ],
   "source": [
    "cps_cleaning_sub.BUNBANKED.value_counts()/len(cps_cleaning_sub)*100"
   ]
  },
  {
   "cell_type": "markdown",
   "metadata": {},
   "source": [
    "Of the subset selected, 93% are unbanked. "
   ]
  },
  {
   "cell_type": "code",
   "execution_count": 73,
   "metadata": {
    "cell_style": "center"
   },
   "outputs": [
    {
     "data": {
      "text/plain": [
       "99.0    204546\n",
       "2.0       8466\n",
       "10.0      5096\n",
       "1.0       3487\n",
       "8.0       1427\n",
       "3.0       1150\n",
       "4.0        899\n",
       "5.0        478\n",
       "6.0        420\n",
       "7.0        369\n",
       "97.0       350\n",
       "11.0       209\n",
       "96.0       126\n",
       "9.0         49\n",
       "98.0        18\n",
       "Name: BUNDERBANKREAS, dtype: int64"
      ]
     },
     "execution_count": 73,
     "metadata": {},
     "output_type": "execute_result"
    }
   ],
   "source": [
    "#examining the breakdown of reasons alternative banking methods were utilized. \n",
    "cps_cleaning_sub.BUNDERBANKREAS.value_counts()"
   ]
  },
  {
   "cell_type": "code",
   "execution_count": 23,
   "metadata": {
    "cell_style": "center"
   },
   "outputs": [
    {
     "data": {
      "text/plain": [
       "YEAR               0.000000\n",
       "MONTH              0.000000\n",
       "REGION             0.000000\n",
       "STATEFIP           0.000000\n",
       "COUNTY             0.000000\n",
       "BUNBANKED          0.000000\n",
       "BUNDERBANKREAS    54.399141\n",
       "BACCTEV            0.000000\n",
       "BCHECKEV          76.725871\n",
       "BCHECK12M         23.274129\n",
       "BCHECKREAS        54.399141\n",
       "BPAYDAY           34.252151\n",
       "BPAYDAYOFT        76.725871\n",
       "BPAYDAYREAS       54.399141\n",
       "BCHECK30D         57.526280\n",
       "BPAYDAY12M         0.000000\n",
       "BPAYDAY30D        57.526280\n",
       "BINCWHERE         65.747849\n",
       "BBILLCASH         65.747849\n",
       "BBILLCHECK        65.747849\n",
       "BCREDITAPP        65.747849\n",
       "BCREDITDENY       65.747849\n",
       "BSAVECACCT        65.747849\n",
       "BINC12M           65.747849\n",
       "BINTERNET         65.747849\n",
       "BPSUPINT           0.000000\n",
       "dtype: float64"
      ]
     },
     "execution_count": 23,
     "metadata": {},
     "output_type": "execute_result"
    }
   ],
   "source": [
    "#Missing null data point percentages for sub population\n",
    "cps_cleaning_sub.isnull().sum()*100/len(cps_cleaning_sub)"
   ]
  },
  {
   "cell_type": "code",
   "execution_count": 24,
   "metadata": {},
   "outputs": [
    {
     "data": {
      "text/plain": [
       "(497995, 26)"
      ]
     },
     "execution_count": 24,
     "metadata": {},
     "output_type": "execute_result"
    }
   ],
   "source": [
    "#examing dimentions of sub population after isolation\n",
    "cps_cleaning_sub.shape"
   ]
  },
  {
   "cell_type": "code",
   "execution_count": 25,
   "metadata": {},
   "outputs": [
    {
     "data": {
      "text/html": [
       "<div>\n",
       "<style scoped>\n",
       "    .dataframe tbody tr th:only-of-type {\n",
       "        vertical-align: middle;\n",
       "    }\n",
       "\n",
       "    .dataframe tbody tr th {\n",
       "        vertical-align: top;\n",
       "    }\n",
       "\n",
       "    .dataframe thead th {\n",
       "        text-align: right;\n",
       "    }\n",
       "</style>\n",
       "<table border=\"1\" class=\"dataframe\">\n",
       "  <thead>\n",
       "    <tr style=\"text-align: right;\">\n",
       "      <th></th>\n",
       "      <th>YEAR</th>\n",
       "      <th>MONTH</th>\n",
       "      <th>REGION</th>\n",
       "      <th>STATEFIP</th>\n",
       "      <th>COUNTY</th>\n",
       "      <th>BUNBANKED</th>\n",
       "      <th>BUNDERBANKREAS</th>\n",
       "      <th>BACCTEV</th>\n",
       "      <th>BCHECKEV</th>\n",
       "      <th>BCHECK12M</th>\n",
       "      <th>...</th>\n",
       "      <th>BPAYDAY30D</th>\n",
       "      <th>BINCWHERE</th>\n",
       "      <th>BBILLCASH</th>\n",
       "      <th>BBILLCHECK</th>\n",
       "      <th>BCREDITAPP</th>\n",
       "      <th>BCREDITDENY</th>\n",
       "      <th>BSAVECACCT</th>\n",
       "      <th>BINC12M</th>\n",
       "      <th>BINTERNET</th>\n",
       "      <th>BPSUPINT</th>\n",
       "    </tr>\n",
       "  </thead>\n",
       "  <tbody>\n",
       "    <tr>\n",
       "      <th>count</th>\n",
       "      <td>497995.000000</td>\n",
       "      <td>497995.000000</td>\n",
       "      <td>497995.000000</td>\n",
       "      <td>497995.000000</td>\n",
       "      <td>497995.000000</td>\n",
       "      <td>497995.000000</td>\n",
       "      <td>227090.000000</td>\n",
       "      <td>497995.000000</td>\n",
       "      <td>115904.000000</td>\n",
       "      <td>382091.000000</td>\n",
       "      <td>...</td>\n",
       "      <td>211517.000000</td>\n",
       "      <td>170574.000000</td>\n",
       "      <td>170574.000000</td>\n",
       "      <td>170574.000000</td>\n",
       "      <td>170574.000000</td>\n",
       "      <td>170574.000000</td>\n",
       "      <td>170574.000000</td>\n",
       "      <td>170574.000000</td>\n",
       "      <td>170574.000000</td>\n",
       "      <td>497995.0</td>\n",
       "    </tr>\n",
       "    <tr>\n",
       "      <th>mean</th>\n",
       "      <td>2012.642908</td>\n",
       "      <td>4.836294</td>\n",
       "      <td>28.149495</td>\n",
       "      <td>28.314166</td>\n",
       "      <td>9650.779004</td>\n",
       "      <td>1.068657</td>\n",
       "      <td>89.823145</td>\n",
       "      <td>92.472856</td>\n",
       "      <td>4.871463</td>\n",
       "      <td>50.645799</td>\n",
       "      <td>...</td>\n",
       "      <td>97.013852</td>\n",
       "      <td>95.475530</td>\n",
       "      <td>7.500193</td>\n",
       "      <td>12.118711</td>\n",
       "      <td>9.006173</td>\n",
       "      <td>85.553127</td>\n",
       "      <td>46.428319</td>\n",
       "      <td>8.177049</td>\n",
       "      <td>7.841224</td>\n",
       "      <td>1.0</td>\n",
       "    </tr>\n",
       "    <tr>\n",
       "      <th>std</th>\n",
       "      <td>2.805656</td>\n",
       "      <td>2.112896</td>\n",
       "      <td>10.616588</td>\n",
       "      <td>15.966500</td>\n",
       "      <td>15214.311350</td>\n",
       "      <td>0.252871</td>\n",
       "      <td>27.990191</td>\n",
       "      <td>24.357753</td>\n",
       "      <td>16.695634</td>\n",
       "      <td>48.539995</td>\n",
       "      <td>...</td>\n",
       "      <td>13.765535</td>\n",
       "      <td>18.205134</td>\n",
       "      <td>22.587053</td>\n",
       "      <td>30.440094</td>\n",
       "      <td>25.146934</td>\n",
       "      <td>33.557313</td>\n",
       "      <td>48.435194</td>\n",
       "      <td>24.797829</td>\n",
       "      <td>24.443669</td>\n",
       "      <td>0.0</td>\n",
       "    </tr>\n",
       "    <tr>\n",
       "      <th>min</th>\n",
       "      <td>2009.000000</td>\n",
       "      <td>1.000000</td>\n",
       "      <td>11.000000</td>\n",
       "      <td>1.000000</td>\n",
       "      <td>0.000000</td>\n",
       "      <td>1.000000</td>\n",
       "      <td>1.000000</td>\n",
       "      <td>1.000000</td>\n",
       "      <td>1.000000</td>\n",
       "      <td>1.000000</td>\n",
       "      <td>...</td>\n",
       "      <td>1.000000</td>\n",
       "      <td>1.000000</td>\n",
       "      <td>1.000000</td>\n",
       "      <td>1.000000</td>\n",
       "      <td>1.000000</td>\n",
       "      <td>1.000000</td>\n",
       "      <td>1.000000</td>\n",
       "      <td>1.000000</td>\n",
       "      <td>1.000000</td>\n",
       "      <td>1.0</td>\n",
       "    </tr>\n",
       "    <tr>\n",
       "      <th>25%</th>\n",
       "      <td>2011.000000</td>\n",
       "      <td>6.000000</td>\n",
       "      <td>21.000000</td>\n",
       "      <td>13.000000</td>\n",
       "      <td>0.000000</td>\n",
       "      <td>1.000000</td>\n",
       "      <td>99.000000</td>\n",
       "      <td>99.000000</td>\n",
       "      <td>2.000000</td>\n",
       "      <td>2.000000</td>\n",
       "      <td>...</td>\n",
       "      <td>99.000000</td>\n",
       "      <td>99.000000</td>\n",
       "      <td>2.000000</td>\n",
       "      <td>1.000000</td>\n",
       "      <td>2.000000</td>\n",
       "      <td>99.000000</td>\n",
       "      <td>2.000000</td>\n",
       "      <td>1.000000</td>\n",
       "      <td>1.000000</td>\n",
       "      <td>1.0</td>\n",
       "    </tr>\n",
       "    <tr>\n",
       "      <th>50%</th>\n",
       "      <td>2013.000000</td>\n",
       "      <td>6.000000</td>\n",
       "      <td>31.000000</td>\n",
       "      <td>28.000000</td>\n",
       "      <td>0.000000</td>\n",
       "      <td>1.000000</td>\n",
       "      <td>99.000000</td>\n",
       "      <td>99.000000</td>\n",
       "      <td>2.000000</td>\n",
       "      <td>96.000000</td>\n",
       "      <td>...</td>\n",
       "      <td>99.000000</td>\n",
       "      <td>99.000000</td>\n",
       "      <td>2.000000</td>\n",
       "      <td>1.000000</td>\n",
       "      <td>2.000000</td>\n",
       "      <td>99.000000</td>\n",
       "      <td>2.000000</td>\n",
       "      <td>1.000000</td>\n",
       "      <td>1.000000</td>\n",
       "      <td>1.0</td>\n",
       "    </tr>\n",
       "    <tr>\n",
       "      <th>75%</th>\n",
       "      <td>2015.000000</td>\n",
       "      <td>6.000000</td>\n",
       "      <td>41.000000</td>\n",
       "      <td>42.000000</td>\n",
       "      <td>12127.000000</td>\n",
       "      <td>1.000000</td>\n",
       "      <td>99.000000</td>\n",
       "      <td>99.000000</td>\n",
       "      <td>2.000000</td>\n",
       "      <td>99.000000</td>\n",
       "      <td>...</td>\n",
       "      <td>99.000000</td>\n",
       "      <td>99.000000</td>\n",
       "      <td>2.000000</td>\n",
       "      <td>2.000000</td>\n",
       "      <td>2.000000</td>\n",
       "      <td>99.000000</td>\n",
       "      <td>99.000000</td>\n",
       "      <td>2.000000</td>\n",
       "      <td>1.000000</td>\n",
       "      <td>1.0</td>\n",
       "    </tr>\n",
       "    <tr>\n",
       "      <th>max</th>\n",
       "      <td>2017.000000</td>\n",
       "      <td>6.000000</td>\n",
       "      <td>42.000000</td>\n",
       "      <td>56.000000</td>\n",
       "      <td>55139.000000</td>\n",
       "      <td>2.000000</td>\n",
       "      <td>99.000000</td>\n",
       "      <td>99.000000</td>\n",
       "      <td>99.000000</td>\n",
       "      <td>99.000000</td>\n",
       "      <td>...</td>\n",
       "      <td>99.000000</td>\n",
       "      <td>99.000000</td>\n",
       "      <td>98.000000</td>\n",
       "      <td>99.000000</td>\n",
       "      <td>98.000000</td>\n",
       "      <td>99.000000</td>\n",
       "      <td>99.000000</td>\n",
       "      <td>98.000000</td>\n",
       "      <td>98.000000</td>\n",
       "      <td>1.0</td>\n",
       "    </tr>\n",
       "  </tbody>\n",
       "</table>\n",
       "<p>8 rows × 26 columns</p>\n",
       "</div>"
      ],
      "text/plain": [
       "                YEAR          MONTH         REGION       STATEFIP  \\\n",
       "count  497995.000000  497995.000000  497995.000000  497995.000000   \n",
       "mean     2012.642908       4.836294      28.149495      28.314166   \n",
       "std         2.805656       2.112896      10.616588      15.966500   \n",
       "min      2009.000000       1.000000      11.000000       1.000000   \n",
       "25%      2011.000000       6.000000      21.000000      13.000000   \n",
       "50%      2013.000000       6.000000      31.000000      28.000000   \n",
       "75%      2015.000000       6.000000      41.000000      42.000000   \n",
       "max      2017.000000       6.000000      42.000000      56.000000   \n",
       "\n",
       "              COUNTY      BUNBANKED  BUNDERBANKREAS        BACCTEV  \\\n",
       "count  497995.000000  497995.000000   227090.000000  497995.000000   \n",
       "mean     9650.779004       1.068657       89.823145      92.472856   \n",
       "std     15214.311350       0.252871       27.990191      24.357753   \n",
       "min         0.000000       1.000000        1.000000       1.000000   \n",
       "25%         0.000000       1.000000       99.000000      99.000000   \n",
       "50%         0.000000       1.000000       99.000000      99.000000   \n",
       "75%     12127.000000       1.000000       99.000000      99.000000   \n",
       "max     55139.000000       2.000000       99.000000      99.000000   \n",
       "\n",
       "            BCHECKEV      BCHECK12M  ...     BPAYDAY30D      BINCWHERE  \\\n",
       "count  115904.000000  382091.000000  ...  211517.000000  170574.000000   \n",
       "mean        4.871463      50.645799  ...      97.013852      95.475530   \n",
       "std        16.695634      48.539995  ...      13.765535      18.205134   \n",
       "min         1.000000       1.000000  ...       1.000000       1.000000   \n",
       "25%         2.000000       2.000000  ...      99.000000      99.000000   \n",
       "50%         2.000000      96.000000  ...      99.000000      99.000000   \n",
       "75%         2.000000      99.000000  ...      99.000000      99.000000   \n",
       "max        99.000000      99.000000  ...      99.000000      99.000000   \n",
       "\n",
       "           BBILLCASH     BBILLCHECK     BCREDITAPP    BCREDITDENY  \\\n",
       "count  170574.000000  170574.000000  170574.000000  170574.000000   \n",
       "mean        7.500193      12.118711       9.006173      85.553127   \n",
       "std        22.587053      30.440094      25.146934      33.557313   \n",
       "min         1.000000       1.000000       1.000000       1.000000   \n",
       "25%         2.000000       1.000000       2.000000      99.000000   \n",
       "50%         2.000000       1.000000       2.000000      99.000000   \n",
       "75%         2.000000       2.000000       2.000000      99.000000   \n",
       "max        98.000000      99.000000      98.000000      99.000000   \n",
       "\n",
       "          BSAVECACCT        BINC12M      BINTERNET  BPSUPINT  \n",
       "count  170574.000000  170574.000000  170574.000000  497995.0  \n",
       "mean       46.428319       8.177049       7.841224       1.0  \n",
       "std        48.435194      24.797829      24.443669       0.0  \n",
       "min         1.000000       1.000000       1.000000       1.0  \n",
       "25%         2.000000       1.000000       1.000000       1.0  \n",
       "50%         2.000000       1.000000       1.000000       1.0  \n",
       "75%        99.000000       2.000000       1.000000       1.0  \n",
       "max        99.000000      98.000000      98.000000       1.0  \n",
       "\n",
       "[8 rows x 26 columns]"
      ]
     },
     "execution_count": 25,
     "metadata": {},
     "output_type": "execute_result"
    }
   ],
   "source": [
    "cps_cleaning_sub.describe()"
   ]
  },
  {
   "cell_type": "code",
   "execution_count": 36,
   "metadata": {},
   "outputs": [],
   "source": [
    "#isolating underbanked population\n",
    "cps_underbanked = cps_cleaning_sub[cps_cleaning_sub.BUNBANKED==1]"
   ]
  },
  {
   "cell_type": "code",
   "execution_count": 37,
   "metadata": {
    "cell_style": "center"
   },
   "outputs": [
    {
     "data": {
      "text/plain": [
       "YEAR               0.000000\n",
       "MONTH              0.000000\n",
       "REGION             0.000000\n",
       "STATEFIP           0.000000\n",
       "COUNTY             0.000000\n",
       "BUNBANKED          0.000000\n",
       "BUNDERBANKREAS    54.575640\n",
       "BACCTEV            0.000000\n",
       "BCHECKEV          76.767341\n",
       "BCHECK12M         23.232659\n",
       "BCHECKREAS        54.575640\n",
       "BPAYDAY           34.460246\n",
       "BPAYDAYOFT        76.767341\n",
       "BPAYDAYREAS       54.575640\n",
       "BCHECK30D         57.692905\n",
       "BPAYDAY12M         0.000000\n",
       "BPAYDAY30D        57.692905\n",
       "BINCWHERE         65.539754\n",
       "BBILLCASH         65.539754\n",
       "BBILLCHECK        65.539754\n",
       "BCREDITAPP        65.539754\n",
       "BCREDITDENY       65.539754\n",
       "BSAVECACCT        65.539754\n",
       "BINC12M           65.539754\n",
       "BINTERNET         65.539754\n",
       "BPSUPINT           0.000000\n",
       "dtype: float64"
      ]
     },
     "execution_count": 37,
     "metadata": {},
     "output_type": "execute_result"
    }
   ],
   "source": [
    "#Missing null data point percentages for unbanked population\n",
    "cps_underbanked.isnull().sum()*100/len(cps_underbanked)"
   ]
  },
  {
   "cell_type": "code",
   "execution_count": 38,
   "metadata": {},
   "outputs": [
    {
     "name": "stdout",
     "output_type": "stream",
     "text": [
      "Missing Value Percentages:\n"
     ]
    },
    {
     "data": {
      "text/plain": [
       "2.0     20.610430\n",
       "1.0      1.991358\n",
       "99.0     0.434882\n",
       "96.0     0.071151\n",
       "97.0     0.065761\n",
       "98.0     0.059077\n",
       "Name: BCHECKEV, dtype: float64"
      ]
     },
     "execution_count": 38,
     "metadata": {},
     "output_type": "execute_result"
    }
   ],
   "source": [
    "#examining the breakdown of why alternative banking is utilized\n",
    "print(\"Missing Value Percentages:\")\n",
    "cps_underbanked.BCHECKEV.value_counts()*100/len(cps_underbanked)"
   ]
  },
  {
   "cell_type": "code",
   "execution_count": 39,
   "metadata": {},
   "outputs": [
    {
     "data": {
      "text/plain": [
       "count    107754.000000\n",
       "mean          4.530876\n",
       "std          15.679487\n",
       "min           1.000000\n",
       "25%           2.000000\n",
       "50%           2.000000\n",
       "75%           2.000000\n",
       "max          99.000000\n",
       "Name: BCHECKEV, dtype: float64"
      ]
     },
     "execution_count": 39,
     "metadata": {},
     "output_type": "execute_result"
    }
   ],
   "source": [
    "\n",
    "cps_underbanked.BCHECKEV.describe()"
   ]
  },
  {
   "cell_type": "code",
   "execution_count": 46,
   "metadata": {},
   "outputs": [
    {
     "data": {
      "text/plain": [
       "2009    115904\n",
       "2011    111186\n",
       "2013    100331\n",
       "2015     87069\n",
       "2017     83505\n",
       "Name: YEAR, dtype: int64"
      ]
     },
     "execution_count": 46,
     "metadata": {},
     "output_type": "execute_result"
    }
   ],
   "source": [
    "cps_cleaning_sub.YEAR.value_counts()"
   ]
  },
  {
   "cell_type": "code",
   "execution_count": 48,
   "metadata": {},
   "outputs": [
    {
     "data": {
      "text/plain": [
       "Index(['YEAR', 'MONTH', 'REGION', 'STATEFIP', 'COUNTY', 'BUNBANKED',\n",
       "       'BUNDERBANKREAS', 'BACCTEV', 'BCHECKEV', 'BCHECK12M', 'BCHECKREAS',\n",
       "       'BPAYDAY', 'BPAYDAYOFT', 'BPAYDAYREAS', 'BCHECK30D', 'BPAYDAY12M',\n",
       "       'BPAYDAY30D', 'BINCWHERE', 'BBILLCASH', 'BBILLCHECK', 'BCREDITAPP',\n",
       "       'BCREDITDENY', 'BSAVECACCT', 'BINC12M', 'BINTERNET', 'BPSUPINT'],\n",
       "      dtype='object')"
      ]
     },
     "execution_count": 48,
     "metadata": {},
     "output_type": "execute_result"
    }
   ],
   "source": [
    "cps_cleaning_sub.columns"
   ]
  },
  {
   "cell_type": "code",
   "execution_count": 50,
   "metadata": {},
   "outputs": [
    {
     "data": {
      "text/plain": [
       "['YEAR', 'MONTH', 'REGION', 'STATEFIP', 'COUNTY']"
      ]
     },
     "execution_count": 50,
     "metadata": {},
     "output_type": "execute_result"
    }
   ],
   "source": [
    "list(cps_cleaning_sub.columns)[:5]"
   ]
  },
  {
   "cell_type": "code",
   "execution_count": 66,
   "metadata": {},
   "outputs": [
    {
     "data": {
      "text/plain": [
       "['BUNBANKED',\n",
       " 'BUNDERBANKREAS',\n",
       " 'BACCTEV',\n",
       " 'BCHECKEV',\n",
       " 'BCHECK12M',\n",
       " 'BCHECKREAS',\n",
       " 'BPAYDAY',\n",
       " 'BPAYDAYOFT',\n",
       " 'BPAYDAYREAS',\n",
       " 'BCHECK30D',\n",
       " 'BPAYDAY12M',\n",
       " 'BPAYDAY30D',\n",
       " 'BINCWHERE',\n",
       " 'BBILLCASH',\n",
       " 'BBILLCHECK',\n",
       " 'BCREDITAPP',\n",
       " 'BCREDITDENY',\n",
       " 'BSAVECACCT',\n",
       " 'BINC12M',\n",
       " 'BINTERNET',\n",
       " 'BPSUPINT']"
      ]
     },
     "execution_count": 66,
     "metadata": {},
     "output_type": "execute_result"
    }
   ],
   "source": [
    "list(cps_cleaning_sub.columns)[5:]"
   ]
  },
  {
   "cell_type": "code",
   "execution_count": 68,
   "metadata": {},
   "outputs": [],
   "source": [
    "categorical_cps_cleaning_sub = cps_cleaning_sub[['BUNBANKED', 'BUNDERBANKREAS', 'BACCTEV', 'BCHECKEV', 'BCHECK12M', 'BCHECKREAS', 'BPAYDAY',\n",
    "                  'BPAYDAYOFT', 'BPAYDAYREAS', 'BCHECK30D', 'BPAYDAY12M', 'BPAYDAY30D', 'BINCWHERE', 'BBILLCASH',\n",
    "                  'BBILLCHECK', 'BCREDITAPP', 'BCREDITDENY', 'BSAVECACCT', 'BINC12M', 'BINTERNET', 'BPSUPINT']]"
   ]
  },
  {
   "cell_type": "code",
   "execution_count": null,
   "metadata": {},
   "outputs": [],
   "source": [
    "imputer = KNNImputer(n_neighbors=2)\n",
    "imputer.fit_transform(categorical_cps_cleaning_sub)"
   ]
  },
  {
   "cell_type": "code",
   "execution_count": null,
   "metadata": {},
   "outputs": [],
   "source": []
  },
  {
   "cell_type": "markdown",
   "metadata": {},
   "source": [
    "# BRITNI WANTS BOX PLOTS"
   ]
  }
 ],
 "metadata": {
  "kernelspec": {
   "display_name": "Python 3",
   "language": "python",
   "name": "python3"
  }
 },
 "nbformat": 4,
 "nbformat_minor": 2
}
