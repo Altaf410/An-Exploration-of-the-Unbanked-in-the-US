{
 "cells": [
  {
   "cell_type": "code",
   "execution_count": 35,
   "metadata": {
    "cell_style": "center"
   },
   "outputs": [],
   "source": [
    "import pandas as pd\n",
    "import dask.dataframe as dd\n",
    "import matplotlib.pyplot as plt\n",
    "import seaborn as sbs"
   ]
  },
  {
   "cell_type": "code",
   "execution_count": 21,
   "metadata": {
    "cell_style": "center"
   },
   "outputs": [],
   "source": [
    "cps_bigboi = pd.read_csv(\"../data/raw/cps_00050.zip\", nrows=100000)"
   ]
  },
  {
   "cell_type": "code",
   "execution_count": 54,
   "metadata": {},
   "outputs": [],
   "source": [
    "cps_bigboi = pd.read_csv(\"../data/raw/cps_00050.zip\")"
   ]
  },
  {
   "cell_type": "code",
   "execution_count": 39,
   "metadata": {},
   "outputs": [
    {
     "data": {
      "text/plain": [
       "(1578977, 161)"
      ]
     },
     "execution_count": 39,
     "metadata": {},
     "output_type": "execute_result"
    }
   ],
   "source": [
    "cps_bigboi.shape"
   ]
  },
  {
   "cell_type": "code",
   "execution_count": 53,
   "metadata": {
    "cell_style": "center"
   },
   "outputs": [
    {
     "data": {
      "text/html": [
       "<div>\n",
       "<style scoped>\n",
       "    .dataframe tbody tr th:only-of-type {\n",
       "        vertical-align: middle;\n",
       "    }\n",
       "\n",
       "    .dataframe tbody tr th {\n",
       "        vertical-align: top;\n",
       "    }\n",
       "\n",
       "    .dataframe thead th {\n",
       "        text-align: right;\n",
       "    }\n",
       "</style>\n",
       "<table border=\"1\" class=\"dataframe\">\n",
       "  <thead>\n",
       "    <tr style=\"text-align: right;\">\n",
       "      <th></th>\n",
       "      <th>BUNBANKED</th>\n",
       "      <th>BUNDERBANKREAS</th>\n",
       "      <th>BACCTEV</th>\n",
       "      <th>BCHECKEV</th>\n",
       "      <th>BCHECK12M</th>\n",
       "      <th>BCHECKREAS</th>\n",
       "      <th>BPAYDAY</th>\n",
       "      <th>BPAYDAYOFT</th>\n",
       "      <th>BPAYDAYREAS</th>\n",
       "      <th>BCHECK30D</th>\n",
       "      <th>BPAYDAY12M</th>\n",
       "      <th>BPAYDAY30D</th>\n",
       "      <th>BINCWHERE</th>\n",
       "      <th>BBILLCASH</th>\n",
       "      <th>BBILLCHECK</th>\n",
       "      <th>BCREDITAPP</th>\n",
       "      <th>BCREDITDENY</th>\n",
       "      <th>BSAVECACCT</th>\n",
       "      <th>BINC12M</th>\n",
       "      <th>BINTERNET</th>\n",
       "    </tr>\n",
       "  </thead>\n",
       "  <tbody>\n",
       "    <tr>\n",
       "      <th>count</th>\n",
       "      <td>654904.000000</td>\n",
       "      <td>267633.000000</td>\n",
       "      <td>654904.000000</td>\n",
       "      <td>133950.000000</td>\n",
       "      <td>520954.000000</td>\n",
       "      <td>267633.000000</td>\n",
       "      <td>399425.000000</td>\n",
       "      <td>133950.000000</td>\n",
       "      <td>267633.000000</td>\n",
       "      <td>265475.000000</td>\n",
       "      <td>654904.000000</td>\n",
       "      <td>265475.000000</td>\n",
       "      <td>255479.000000</td>\n",
       "      <td>255479.000000</td>\n",
       "      <td>255479.000000</td>\n",
       "      <td>255479.000000</td>\n",
       "      <td>255479.000000</td>\n",
       "      <td>255479.000000</td>\n",
       "      <td>255479.000000</td>\n",
       "      <td>255479.000000</td>\n",
       "    </tr>\n",
       "    <tr>\n",
       "      <th>mean</th>\n",
       "      <td>23.792127</td>\n",
       "      <td>91.213322</td>\n",
       "      <td>94.036700</td>\n",
       "      <td>17.552639</td>\n",
       "      <td>63.534863</td>\n",
       "      <td>89.225174</td>\n",
       "      <td>22.014849</td>\n",
       "      <td>968.624367</td>\n",
       "      <td>95.378313</td>\n",
       "      <td>93.091221</td>\n",
       "      <td>73.226303</td>\n",
       "      <td>97.417538</td>\n",
       "      <td>96.646840</td>\n",
       "      <td>37.908920</td>\n",
       "      <td>40.992536</td>\n",
       "      <td>38.914408</td>\n",
       "      <td>90.022014</td>\n",
       "      <td>63.899808</td>\n",
       "      <td>38.360832</td>\n",
       "      <td>38.136614</td>\n",
       "    </tr>\n",
       "    <tr>\n",
       "      <th>std</th>\n",
       "      <td>41.243636</td>\n",
       "      <td>25.992161</td>\n",
       "      <td>21.422243</td>\n",
       "      <td>35.693795</td>\n",
       "      <td>46.746168</td>\n",
       "      <td>29.014576</td>\n",
       "      <td>39.251085</td>\n",
       "      <td>171.194138</td>\n",
       "      <td>18.292134</td>\n",
       "      <td>23.263638</td>\n",
       "      <td>42.840896</td>\n",
       "      <td>12.313190</td>\n",
       "      <td>14.967882</td>\n",
       "      <td>46.886392</td>\n",
       "      <td>47.891118</td>\n",
       "      <td>47.109122</td>\n",
       "      <td>28.141991</td>\n",
       "      <td>46.685856</td>\n",
       "      <td>47.338079</td>\n",
       "      <td>47.358322</td>\n",
       "    </tr>\n",
       "    <tr>\n",
       "      <th>min</th>\n",
       "      <td>1.000000</td>\n",
       "      <td>1.000000</td>\n",
       "      <td>1.000000</td>\n",
       "      <td>1.000000</td>\n",
       "      <td>1.000000</td>\n",
       "      <td>1.000000</td>\n",
       "      <td>1.000000</td>\n",
       "      <td>0.000000</td>\n",
       "      <td>1.000000</td>\n",
       "      <td>1.000000</td>\n",
       "      <td>1.000000</td>\n",
       "      <td>1.000000</td>\n",
       "      <td>1.000000</td>\n",
       "      <td>1.000000</td>\n",
       "      <td>1.000000</td>\n",
       "      <td>1.000000</td>\n",
       "      <td>1.000000</td>\n",
       "      <td>1.000000</td>\n",
       "      <td>1.000000</td>\n",
       "      <td>1.000000</td>\n",
       "    </tr>\n",
       "    <tr>\n",
       "      <th>25%</th>\n",
       "      <td>1.000000</td>\n",
       "      <td>99.000000</td>\n",
       "      <td>99.000000</td>\n",
       "      <td>2.000000</td>\n",
       "      <td>2.000000</td>\n",
       "      <td>99.000000</td>\n",
       "      <td>2.000000</td>\n",
       "      <td>999.000000</td>\n",
       "      <td>99.000000</td>\n",
       "      <td>99.000000</td>\n",
       "      <td>2.000000</td>\n",
       "      <td>99.000000</td>\n",
       "      <td>99.000000</td>\n",
       "      <td>2.000000</td>\n",
       "      <td>1.000000</td>\n",
       "      <td>2.000000</td>\n",
       "      <td>99.000000</td>\n",
       "      <td>2.000000</td>\n",
       "      <td>1.000000</td>\n",
       "      <td>1.000000</td>\n",
       "    </tr>\n",
       "    <tr>\n",
       "      <th>50%</th>\n",
       "      <td>1.000000</td>\n",
       "      <td>99.000000</td>\n",
       "      <td>99.000000</td>\n",
       "      <td>2.000000</td>\n",
       "      <td>99.000000</td>\n",
       "      <td>99.000000</td>\n",
       "      <td>2.000000</td>\n",
       "      <td>999.000000</td>\n",
       "      <td>99.000000</td>\n",
       "      <td>99.000000</td>\n",
       "      <td>99.000000</td>\n",
       "      <td>99.000000</td>\n",
       "      <td>99.000000</td>\n",
       "      <td>2.000000</td>\n",
       "      <td>2.000000</td>\n",
       "      <td>2.000000</td>\n",
       "      <td>99.000000</td>\n",
       "      <td>99.000000</td>\n",
       "      <td>2.000000</td>\n",
       "      <td>1.000000</td>\n",
       "    </tr>\n",
       "    <tr>\n",
       "      <th>75%</th>\n",
       "      <td>2.000000</td>\n",
       "      <td>99.000000</td>\n",
       "      <td>99.000000</td>\n",
       "      <td>2.000000</td>\n",
       "      <td>99.000000</td>\n",
       "      <td>99.000000</td>\n",
       "      <td>2.000000</td>\n",
       "      <td>999.000000</td>\n",
       "      <td>99.000000</td>\n",
       "      <td>99.000000</td>\n",
       "      <td>99.000000</td>\n",
       "      <td>99.000000</td>\n",
       "      <td>99.000000</td>\n",
       "      <td>99.000000</td>\n",
       "      <td>99.000000</td>\n",
       "      <td>99.000000</td>\n",
       "      <td>99.000000</td>\n",
       "      <td>99.000000</td>\n",
       "      <td>99.000000</td>\n",
       "      <td>99.000000</td>\n",
       "    </tr>\n",
       "    <tr>\n",
       "      <th>max</th>\n",
       "      <td>99.000000</td>\n",
       "      <td>99.000000</td>\n",
       "      <td>99.000000</td>\n",
       "      <td>99.000000</td>\n",
       "      <td>99.000000</td>\n",
       "      <td>99.000000</td>\n",
       "      <td>99.000000</td>\n",
       "      <td>999.000000</td>\n",
       "      <td>99.000000</td>\n",
       "      <td>99.000000</td>\n",
       "      <td>99.000000</td>\n",
       "      <td>99.000000</td>\n",
       "      <td>99.000000</td>\n",
       "      <td>99.000000</td>\n",
       "      <td>99.000000</td>\n",
       "      <td>99.000000</td>\n",
       "      <td>99.000000</td>\n",
       "      <td>99.000000</td>\n",
       "      <td>99.000000</td>\n",
       "      <td>99.000000</td>\n",
       "    </tr>\n",
       "  </tbody>\n",
       "</table>\n",
       "</div>"
      ],
      "text/plain": [
       "           BUNBANKED  BUNDERBANKREAS        BACCTEV       BCHECKEV  \\\n",
       "count  654904.000000   267633.000000  654904.000000  133950.000000   \n",
       "mean       23.792127       91.213322      94.036700      17.552639   \n",
       "std        41.243636       25.992161      21.422243      35.693795   \n",
       "min         1.000000        1.000000       1.000000       1.000000   \n",
       "25%         1.000000       99.000000      99.000000       2.000000   \n",
       "50%         1.000000       99.000000      99.000000       2.000000   \n",
       "75%         2.000000       99.000000      99.000000       2.000000   \n",
       "max        99.000000       99.000000      99.000000      99.000000   \n",
       "\n",
       "           BCHECK12M     BCHECKREAS        BPAYDAY     BPAYDAYOFT  \\\n",
       "count  520954.000000  267633.000000  399425.000000  133950.000000   \n",
       "mean       63.534863      89.225174      22.014849     968.624367   \n",
       "std        46.746168      29.014576      39.251085     171.194138   \n",
       "min         1.000000       1.000000       1.000000       0.000000   \n",
       "25%         2.000000      99.000000       2.000000     999.000000   \n",
       "50%        99.000000      99.000000       2.000000     999.000000   \n",
       "75%        99.000000      99.000000       2.000000     999.000000   \n",
       "max        99.000000      99.000000      99.000000     999.000000   \n",
       "\n",
       "         BPAYDAYREAS      BCHECK30D     BPAYDAY12M     BPAYDAY30D  \\\n",
       "count  267633.000000  265475.000000  654904.000000  265475.000000   \n",
       "mean       95.378313      93.091221      73.226303      97.417538   \n",
       "std        18.292134      23.263638      42.840896      12.313190   \n",
       "min         1.000000       1.000000       1.000000       1.000000   \n",
       "25%        99.000000      99.000000       2.000000      99.000000   \n",
       "50%        99.000000      99.000000      99.000000      99.000000   \n",
       "75%        99.000000      99.000000      99.000000      99.000000   \n",
       "max        99.000000      99.000000      99.000000      99.000000   \n",
       "\n",
       "           BINCWHERE      BBILLCASH     BBILLCHECK     BCREDITAPP  \\\n",
       "count  255479.000000  255479.000000  255479.000000  255479.000000   \n",
       "mean       96.646840      37.908920      40.992536      38.914408   \n",
       "std        14.967882      46.886392      47.891118      47.109122   \n",
       "min         1.000000       1.000000       1.000000       1.000000   \n",
       "25%        99.000000       2.000000       1.000000       2.000000   \n",
       "50%        99.000000       2.000000       2.000000       2.000000   \n",
       "75%        99.000000      99.000000      99.000000      99.000000   \n",
       "max        99.000000      99.000000      99.000000      99.000000   \n",
       "\n",
       "         BCREDITDENY     BSAVECACCT        BINC12M      BINTERNET  \n",
       "count  255479.000000  255479.000000  255479.000000  255479.000000  \n",
       "mean       90.022014      63.899808      38.360832      38.136614  \n",
       "std        28.141991      46.685856      47.338079      47.358322  \n",
       "min         1.000000       1.000000       1.000000       1.000000  \n",
       "25%        99.000000       2.000000       1.000000       1.000000  \n",
       "50%        99.000000      99.000000       2.000000       1.000000  \n",
       "75%        99.000000      99.000000      99.000000      99.000000  \n",
       "max        99.000000      99.000000      99.000000      99.000000  "
      ]
     },
     "execution_count": 53,
     "metadata": {},
     "output_type": "execute_result"
    }
   ],
   "source": [
    "cps_bigboi.describe()"
   ]
  },
  {
   "cell_type": "code",
   "execution_count": 55,
   "metadata": {
    "cell_style": "center"
   },
   "outputs": [
    {
     "data": {
      "text/plain": [
       "Index(['YEAR', 'SERIAL', 'MONTH', 'HWTFINL', 'CPSID', 'REGION', 'STATEFIP',\n",
       "       'COUNTY', 'BPSUPINT', 'BUNBANKED',\n",
       "       ...\n",
       "       'QCINTSCH', 'QCINTUSE', 'QCINUMCMP', 'QCISTPNET', 'QCIUSECMP', 'CIPWT',\n",
       "       'CISUPPWT', 'UBSUPPWT', 'BPACCT', 'BWHOACCT'],\n",
       "      dtype='object', length=161)"
      ]
     },
     "execution_count": 55,
     "metadata": {},
     "output_type": "execute_result"
    }
   ],
   "source": [
    "cps_bigboi.columns"
   ]
  },
  {
   "cell_type": "code",
   "execution_count": 56,
   "metadata": {},
   "outputs": [],
   "source": [
    "cps_bigboi = cps_bigboi[[\"BUNBANKED\", \"BUNDERBANKREAS\", \"BACCTEV\", \"BCHECKEV\", \"BCHECK12M\", \"BCHECKREAS\", \n",
    "                 \"BPAYDAY\", \"BPAYDAYOFT\", \"BPAYDAYREAS\", \"BCHECK30D\", \"BPAYDAY12M\", \"BPAYDAY30D\", \"BINCWHERE\", \n",
    "                 \"BBILLCASH\", \"BBILLCHECK\", \"BCREDITAPP\", \"BCREDITDENY\", \"BSAVECACCT\", \"BINC12M\", \"BINTERNET\", \n",
    "                         \"BPSUPINT\"]]"
   ]
  },
  {
   "cell_type": "code",
   "execution_count": 57,
   "metadata": {},
   "outputs": [
    {
     "data": {
      "text/plain": [
       "BUNBANKED          924073\n",
       "BUNDERBANKREAS    1311344\n",
       "BACCTEV            924073\n",
       "BCHECKEV          1445027\n",
       "BCHECK12M         1058023\n",
       "BCHECKREAS        1311344\n",
       "BPAYDAY           1179552\n",
       "BPAYDAYOFT        1445027\n",
       "BPAYDAYREAS       1311344\n",
       "BCHECK30D         1313502\n",
       "BPAYDAY12M         924073\n",
       "BPAYDAY30D        1313502\n",
       "BINCWHERE         1323498\n",
       "BBILLCASH         1323498\n",
       "BBILLCHECK        1323498\n",
       "BCREDITAPP        1323498\n",
       "BCREDITDENY       1323498\n",
       "BSAVECACCT        1323498\n",
       "BINC12M           1323498\n",
       "BINTERNET         1323498\n",
       "BPSUPINT           924073\n",
       "dtype: int64"
      ]
     },
     "execution_count": 57,
     "metadata": {},
     "output_type": "execute_result"
    }
   ],
   "source": [
    "cps_bigboi.isnull().sum()"
   ]
  },
  {
   "cell_type": "code",
   "execution_count": 58,
   "metadata": {
    "cell_style": "center"
   },
   "outputs": [
    {
     "name": "stdout",
     "output_type": "stream",
     "text": [
      "<class 'pandas.core.frame.DataFrame'>\n",
      "RangeIndex: 1578977 entries, 0 to 1578976\n",
      "Data columns (total 21 columns):\n",
      " #   Column          Non-Null Count   Dtype  \n",
      "---  ------          --------------   -----  \n",
      " 0   BUNBANKED       654904 non-null  float64\n",
      " 1   BUNDERBANKREAS  267633 non-null  float64\n",
      " 2   BACCTEV         654904 non-null  float64\n",
      " 3   BCHECKEV        133950 non-null  float64\n",
      " 4   BCHECK12M       520954 non-null  float64\n",
      " 5   BCHECKREAS      267633 non-null  float64\n",
      " 6   BPAYDAY         399425 non-null  float64\n",
      " 7   BPAYDAYOFT      133950 non-null  float64\n",
      " 8   BPAYDAYREAS     267633 non-null  float64\n",
      " 9   BCHECK30D       265475 non-null  float64\n",
      " 10  BPAYDAY12M      654904 non-null  float64\n",
      " 11  BPAYDAY30D      265475 non-null  float64\n",
      " 12  BINCWHERE       255479 non-null  float64\n",
      " 13  BBILLCASH       255479 non-null  float64\n",
      " 14  BBILLCHECK      255479 non-null  float64\n",
      " 15  BCREDITAPP      255479 non-null  float64\n",
      " 16  BCREDITDENY     255479 non-null  float64\n",
      " 17  BSAVECACCT      255479 non-null  float64\n",
      " 18  BINC12M         255479 non-null  float64\n",
      " 19  BINTERNET       255479 non-null  float64\n",
      " 20  BPSUPINT        654904 non-null  float64\n",
      "dtypes: float64(21)\n",
      "memory usage: 253.0 MB\n"
     ]
    }
   ],
   "source": [
    "cps_bigboi.info()"
   ]
  },
  {
   "cell_type": "code",
   "execution_count": 60,
   "metadata": {},
   "outputs": [],
   "source": [
    "#isolated those who responded to question battery about underbanked status\n",
    "cps_bigboi_sub = cps_bigboi[cps_bigboi.BPSUPINT==1]"
   ]
  },
  {
   "cell_type": "code",
   "execution_count": 72,
   "metadata": {
    "cell_style": "center"
   },
   "outputs": [
    {
     "data": {
      "text/plain": [
       "1.0    463804\n",
       "2.0     34191\n",
       "Name: BUNBANKED, dtype: int64"
      ]
     },
     "execution_count": 72,
     "metadata": {},
     "output_type": "execute_result"
    }
   ],
   "source": [
    "cps_bigboi_sub.BUNBANKED.value_counts()"
   ]
  },
  {
   "cell_type": "code",
   "execution_count": 73,
   "metadata": {
    "cell_style": "center"
   },
   "outputs": [
    {
     "data": {
      "text/plain": [
       "99.0    204546\n",
       "2.0       8466\n",
       "10.0      5096\n",
       "1.0       3487\n",
       "8.0       1427\n",
       "3.0       1150\n",
       "4.0        899\n",
       "5.0        478\n",
       "6.0        420\n",
       "7.0        369\n",
       "97.0       350\n",
       "11.0       209\n",
       "96.0       126\n",
       "9.0         49\n",
       "98.0        18\n",
       "Name: BUNDERBANKREAS, dtype: int64"
      ]
     },
     "execution_count": 73,
     "metadata": {},
     "output_type": "execute_result"
    }
   ],
   "source": [
    "cps_bigboi_sub.BUNDERBANKREAS.value_counts()"
   ]
  },
  {
   "cell_type": "code",
   "execution_count": 65,
   "metadata": {
    "cell_style": "center"
   },
   "outputs": [
    {
     "data": {
      "text/plain": [
       "BUNBANKED          0.000000\n",
       "BUNDERBANKREAS    54.399141\n",
       "BACCTEV            0.000000\n",
       "BCHECKEV          76.725871\n",
       "BCHECK12M         23.274129\n",
       "BCHECKREAS        54.399141\n",
       "BPAYDAY           34.252151\n",
       "BPAYDAYOFT        76.725871\n",
       "BPAYDAYREAS       54.399141\n",
       "BCHECK30D         57.526280\n",
       "BPAYDAY12M         0.000000\n",
       "BPAYDAY30D        57.526280\n",
       "BINCWHERE         65.747849\n",
       "BBILLCASH         65.747849\n",
       "BBILLCHECK        65.747849\n",
       "BCREDITAPP        65.747849\n",
       "BCREDITDENY       65.747849\n",
       "BSAVECACCT        65.747849\n",
       "BINC12M           65.747849\n",
       "BINTERNET         65.747849\n",
       "BPSUPINT           0.000000\n",
       "dtype: float64"
      ]
     },
     "execution_count": 65,
     "metadata": {},
     "output_type": "execute_result"
    }
   ],
   "source": [
    "#Missing Variable %s\n",
    "cps_bigboi_sub.isnull().sum()*100/len(cps_bigboi_sub)"
   ]
  },
  {
   "cell_type": "code",
   "execution_count": null,
   "metadata": {},
   "outputs": [],
   "source": [
    "cps_bigboi_sub"
   ]
  },
  {
   "cell_type": "code",
   "execution_count": 64,
   "metadata": {},
   "outputs": [
    {
     "data": {
      "text/plain": [
       "(497995, 21)"
      ]
     },
     "execution_count": 64,
     "metadata": {},
     "output_type": "execute_result"
    }
   ],
   "source": [
    "cps_bigboi_sub.shape"
   ]
  },
  {
   "cell_type": "code",
   "execution_count": 61,
   "metadata": {},
   "outputs": [
    {
     "data": {
      "text/html": [
       "<div>\n",
       "<style scoped>\n",
       "    .dataframe tbody tr th:only-of-type {\n",
       "        vertical-align: middle;\n",
       "    }\n",
       "\n",
       "    .dataframe tbody tr th {\n",
       "        vertical-align: top;\n",
       "    }\n",
       "\n",
       "    .dataframe thead th {\n",
       "        text-align: right;\n",
       "    }\n",
       "</style>\n",
       "<table border=\"1\" class=\"dataframe\">\n",
       "  <thead>\n",
       "    <tr style=\"text-align: right;\">\n",
       "      <th></th>\n",
       "      <th>BUNBANKED</th>\n",
       "      <th>BUNDERBANKREAS</th>\n",
       "      <th>BACCTEV</th>\n",
       "      <th>BCHECKEV</th>\n",
       "      <th>BCHECK12M</th>\n",
       "      <th>BCHECKREAS</th>\n",
       "      <th>BPAYDAY</th>\n",
       "      <th>BPAYDAYOFT</th>\n",
       "      <th>BPAYDAYREAS</th>\n",
       "      <th>BCHECK30D</th>\n",
       "      <th>...</th>\n",
       "      <th>BPAYDAY30D</th>\n",
       "      <th>BINCWHERE</th>\n",
       "      <th>BBILLCASH</th>\n",
       "      <th>BBILLCHECK</th>\n",
       "      <th>BCREDITAPP</th>\n",
       "      <th>BCREDITDENY</th>\n",
       "      <th>BSAVECACCT</th>\n",
       "      <th>BINC12M</th>\n",
       "      <th>BINTERNET</th>\n",
       "      <th>BPSUPINT</th>\n",
       "    </tr>\n",
       "  </thead>\n",
       "  <tbody>\n",
       "    <tr>\n",
       "      <th>count</th>\n",
       "      <td>497995.000000</td>\n",
       "      <td>227090.000000</td>\n",
       "      <td>497995.000000</td>\n",
       "      <td>115904.000000</td>\n",
       "      <td>382091.000000</td>\n",
       "      <td>227090.000000</td>\n",
       "      <td>327421.000000</td>\n",
       "      <td>115904.000000</td>\n",
       "      <td>227090.000000</td>\n",
       "      <td>211517.000000</td>\n",
       "      <td>...</td>\n",
       "      <td>211517.000000</td>\n",
       "      <td>170574.000000</td>\n",
       "      <td>170574.000000</td>\n",
       "      <td>170574.000000</td>\n",
       "      <td>170574.000000</td>\n",
       "      <td>170574.000000</td>\n",
       "      <td>170574.000000</td>\n",
       "      <td>170574.000000</td>\n",
       "      <td>170574.000000</td>\n",
       "      <td>497995.0</td>\n",
       "    </tr>\n",
       "    <tr>\n",
       "      <th>mean</th>\n",
       "      <td>1.068657</td>\n",
       "      <td>89.823145</td>\n",
       "      <td>92.472856</td>\n",
       "      <td>4.871463</td>\n",
       "      <td>50.645799</td>\n",
       "      <td>87.480048</td>\n",
       "      <td>5.084845</td>\n",
       "      <td>963.894948</td>\n",
       "      <td>94.731723</td>\n",
       "      <td>91.583892</td>\n",
       "      <td>...</td>\n",
       "      <td>97.013852</td>\n",
       "      <td>95.475530</td>\n",
       "      <td>7.500193</td>\n",
       "      <td>12.118711</td>\n",
       "      <td>9.006173</td>\n",
       "      <td>85.553127</td>\n",
       "      <td>46.428319</td>\n",
       "      <td>8.177049</td>\n",
       "      <td>7.841224</td>\n",
       "      <td>1.0</td>\n",
       "    </tr>\n",
       "    <tr>\n",
       "      <th>std</th>\n",
       "      <td>0.252871</td>\n",
       "      <td>27.990191</td>\n",
       "      <td>24.357753</td>\n",
       "      <td>16.695634</td>\n",
       "      <td>48.539995</td>\n",
       "      <td>31.177547</td>\n",
       "      <td>17.013752</td>\n",
       "      <td>183.587984</td>\n",
       "      <td>19.788382</td>\n",
       "      <td>25.847210</td>\n",
       "      <td>...</td>\n",
       "      <td>13.765535</td>\n",
       "      <td>18.205134</td>\n",
       "      <td>22.587053</td>\n",
       "      <td>30.440094</td>\n",
       "      <td>25.146934</td>\n",
       "      <td>33.557313</td>\n",
       "      <td>48.435194</td>\n",
       "      <td>24.797829</td>\n",
       "      <td>24.443669</td>\n",
       "      <td>0.0</td>\n",
       "    </tr>\n",
       "    <tr>\n",
       "      <th>min</th>\n",
       "      <td>1.000000</td>\n",
       "      <td>1.000000</td>\n",
       "      <td>1.000000</td>\n",
       "      <td>1.000000</td>\n",
       "      <td>1.000000</td>\n",
       "      <td>1.000000</td>\n",
       "      <td>1.000000</td>\n",
       "      <td>0.000000</td>\n",
       "      <td>1.000000</td>\n",
       "      <td>1.000000</td>\n",
       "      <td>...</td>\n",
       "      <td>1.000000</td>\n",
       "      <td>1.000000</td>\n",
       "      <td>1.000000</td>\n",
       "      <td>1.000000</td>\n",
       "      <td>1.000000</td>\n",
       "      <td>1.000000</td>\n",
       "      <td>1.000000</td>\n",
       "      <td>1.000000</td>\n",
       "      <td>1.000000</td>\n",
       "      <td>1.0</td>\n",
       "    </tr>\n",
       "    <tr>\n",
       "      <th>25%</th>\n",
       "      <td>1.000000</td>\n",
       "      <td>99.000000</td>\n",
       "      <td>99.000000</td>\n",
       "      <td>2.000000</td>\n",
       "      <td>2.000000</td>\n",
       "      <td>99.000000</td>\n",
       "      <td>2.000000</td>\n",
       "      <td>999.000000</td>\n",
       "      <td>99.000000</td>\n",
       "      <td>99.000000</td>\n",
       "      <td>...</td>\n",
       "      <td>99.000000</td>\n",
       "      <td>99.000000</td>\n",
       "      <td>2.000000</td>\n",
       "      <td>1.000000</td>\n",
       "      <td>2.000000</td>\n",
       "      <td>99.000000</td>\n",
       "      <td>2.000000</td>\n",
       "      <td>1.000000</td>\n",
       "      <td>1.000000</td>\n",
       "      <td>1.0</td>\n",
       "    </tr>\n",
       "    <tr>\n",
       "      <th>50%</th>\n",
       "      <td>1.000000</td>\n",
       "      <td>99.000000</td>\n",
       "      <td>99.000000</td>\n",
       "      <td>2.000000</td>\n",
       "      <td>96.000000</td>\n",
       "      <td>99.000000</td>\n",
       "      <td>2.000000</td>\n",
       "      <td>999.000000</td>\n",
       "      <td>99.000000</td>\n",
       "      <td>99.000000</td>\n",
       "      <td>...</td>\n",
       "      <td>99.000000</td>\n",
       "      <td>99.000000</td>\n",
       "      <td>2.000000</td>\n",
       "      <td>1.000000</td>\n",
       "      <td>2.000000</td>\n",
       "      <td>99.000000</td>\n",
       "      <td>2.000000</td>\n",
       "      <td>1.000000</td>\n",
       "      <td>1.000000</td>\n",
       "      <td>1.0</td>\n",
       "    </tr>\n",
       "    <tr>\n",
       "      <th>75%</th>\n",
       "      <td>1.000000</td>\n",
       "      <td>99.000000</td>\n",
       "      <td>99.000000</td>\n",
       "      <td>2.000000</td>\n",
       "      <td>99.000000</td>\n",
       "      <td>99.000000</td>\n",
       "      <td>2.000000</td>\n",
       "      <td>999.000000</td>\n",
       "      <td>99.000000</td>\n",
       "      <td>99.000000</td>\n",
       "      <td>...</td>\n",
       "      <td>99.000000</td>\n",
       "      <td>99.000000</td>\n",
       "      <td>2.000000</td>\n",
       "      <td>2.000000</td>\n",
       "      <td>2.000000</td>\n",
       "      <td>99.000000</td>\n",
       "      <td>99.000000</td>\n",
       "      <td>2.000000</td>\n",
       "      <td>1.000000</td>\n",
       "      <td>1.0</td>\n",
       "    </tr>\n",
       "    <tr>\n",
       "      <th>max</th>\n",
       "      <td>2.000000</td>\n",
       "      <td>99.000000</td>\n",
       "      <td>99.000000</td>\n",
       "      <td>99.000000</td>\n",
       "      <td>99.000000</td>\n",
       "      <td>99.000000</td>\n",
       "      <td>99.000000</td>\n",
       "      <td>999.000000</td>\n",
       "      <td>99.000000</td>\n",
       "      <td>99.000000</td>\n",
       "      <td>...</td>\n",
       "      <td>99.000000</td>\n",
       "      <td>99.000000</td>\n",
       "      <td>98.000000</td>\n",
       "      <td>99.000000</td>\n",
       "      <td>98.000000</td>\n",
       "      <td>99.000000</td>\n",
       "      <td>99.000000</td>\n",
       "      <td>98.000000</td>\n",
       "      <td>98.000000</td>\n",
       "      <td>1.0</td>\n",
       "    </tr>\n",
       "  </tbody>\n",
       "</table>\n",
       "<p>8 rows × 21 columns</p>\n",
       "</div>"
      ],
      "text/plain": [
       "           BUNBANKED  BUNDERBANKREAS        BACCTEV       BCHECKEV  \\\n",
       "count  497995.000000   227090.000000  497995.000000  115904.000000   \n",
       "mean        1.068657       89.823145      92.472856       4.871463   \n",
       "std         0.252871       27.990191      24.357753      16.695634   \n",
       "min         1.000000        1.000000       1.000000       1.000000   \n",
       "25%         1.000000       99.000000      99.000000       2.000000   \n",
       "50%         1.000000       99.000000      99.000000       2.000000   \n",
       "75%         1.000000       99.000000      99.000000       2.000000   \n",
       "max         2.000000       99.000000      99.000000      99.000000   \n",
       "\n",
       "           BCHECK12M     BCHECKREAS        BPAYDAY     BPAYDAYOFT  \\\n",
       "count  382091.000000  227090.000000  327421.000000  115904.000000   \n",
       "mean       50.645799      87.480048       5.084845     963.894948   \n",
       "std        48.539995      31.177547      17.013752     183.587984   \n",
       "min         1.000000       1.000000       1.000000       0.000000   \n",
       "25%         2.000000      99.000000       2.000000     999.000000   \n",
       "50%        96.000000      99.000000       2.000000     999.000000   \n",
       "75%        99.000000      99.000000       2.000000     999.000000   \n",
       "max        99.000000      99.000000      99.000000     999.000000   \n",
       "\n",
       "         BPAYDAYREAS      BCHECK30D  ...     BPAYDAY30D      BINCWHERE  \\\n",
       "count  227090.000000  211517.000000  ...  211517.000000  170574.000000   \n",
       "mean       94.731723      91.583892  ...      97.013852      95.475530   \n",
       "std        19.788382      25.847210  ...      13.765535      18.205134   \n",
       "min         1.000000       1.000000  ...       1.000000       1.000000   \n",
       "25%        99.000000      99.000000  ...      99.000000      99.000000   \n",
       "50%        99.000000      99.000000  ...      99.000000      99.000000   \n",
       "75%        99.000000      99.000000  ...      99.000000      99.000000   \n",
       "max        99.000000      99.000000  ...      99.000000      99.000000   \n",
       "\n",
       "           BBILLCASH     BBILLCHECK     BCREDITAPP    BCREDITDENY  \\\n",
       "count  170574.000000  170574.000000  170574.000000  170574.000000   \n",
       "mean        7.500193      12.118711       9.006173      85.553127   \n",
       "std        22.587053      30.440094      25.146934      33.557313   \n",
       "min         1.000000       1.000000       1.000000       1.000000   \n",
       "25%         2.000000       1.000000       2.000000      99.000000   \n",
       "50%         2.000000       1.000000       2.000000      99.000000   \n",
       "75%         2.000000       2.000000       2.000000      99.000000   \n",
       "max        98.000000      99.000000      98.000000      99.000000   \n",
       "\n",
       "          BSAVECACCT        BINC12M      BINTERNET  BPSUPINT  \n",
       "count  170574.000000  170574.000000  170574.000000  497995.0  \n",
       "mean       46.428319       8.177049       7.841224       1.0  \n",
       "std        48.435194      24.797829      24.443669       0.0  \n",
       "min         1.000000       1.000000       1.000000       1.0  \n",
       "25%         2.000000       1.000000       1.000000       1.0  \n",
       "50%         2.000000       1.000000       1.000000       1.0  \n",
       "75%        99.000000       2.000000       1.000000       1.0  \n",
       "max        99.000000      98.000000      98.000000       1.0  \n",
       "\n",
       "[8 rows x 21 columns]"
      ]
     },
     "execution_count": 61,
     "metadata": {},
     "output_type": "execute_result"
    }
   ],
   "source": [
    "cps_bigboi_sub.describe()"
   ]
  },
  {
   "cell_type": "code",
   "execution_count": 77,
   "metadata": {},
   "outputs": [],
   "source": [
    "#isolating those that identify as underbanked\n",
    "underbanked_sub = cps_bigboi_sub[cps_bigboi_sub.BUNBANKED==1]"
   ]
  },
  {
   "cell_type": "code",
   "execution_count": 78,
   "metadata": {},
   "outputs": [
    {
     "data": {
      "text/plain": [
       "BUNBANKED          0.000000\n",
       "BUNDERBANKREAS    54.575640\n",
       "BACCTEV            0.000000\n",
       "BCHECKEV          76.767341\n",
       "BCHECK12M         23.232659\n",
       "BCHECKREAS        54.575640\n",
       "BPAYDAY           34.460246\n",
       "BPAYDAYOFT        76.767341\n",
       "BPAYDAYREAS       54.575640\n",
       "BCHECK30D         57.692905\n",
       "BPAYDAY12M         0.000000\n",
       "BPAYDAY30D        57.692905\n",
       "BINCWHERE         65.539754\n",
       "BBILLCASH         65.539754\n",
       "BBILLCHECK        65.539754\n",
       "BCREDITAPP        65.539754\n",
       "BCREDITDENY       65.539754\n",
       "BSAVECACCT        65.539754\n",
       "BINC12M           65.539754\n",
       "BINTERNET         65.539754\n",
       "BPSUPINT           0.000000\n",
       "dtype: float64"
      ]
     },
     "execution_count": 78,
     "metadata": {},
     "output_type": "execute_result"
    }
   ],
   "source": [
    "underbanked_sub.isnull().sum()*100/len(underbanked_sub)"
   ]
  },
  {
   "cell_type": "code",
   "execution_count": 87,
   "metadata": {},
   "outputs": [
    {
     "name": "stdout",
     "output_type": "stream",
     "text": [
      "Missing Value Percentages:\n"
     ]
    },
    {
     "data": {
      "text/plain": [
       "2.0     20.610430\n",
       "1.0      1.991358\n",
       "99.0     0.434882\n",
       "96.0     0.071151\n",
       "97.0     0.065761\n",
       "98.0     0.059077\n",
       "Name: BCHECKEV, dtype: float64"
      ]
     },
     "execution_count": 87,
     "metadata": {},
     "output_type": "execute_result"
    }
   ],
   "source": [
    "print(\"Missing Value Percentages:\")\n",
    "underbanked_sub.BCHECKEV.value_counts()*100/len(underbanked_sub)"
   ]
  },
  {
   "cell_type": "code",
   "execution_count": 88,
   "metadata": {},
   "outputs": [
    {
     "data": {
      "text/plain": [
       "count    107754.000000\n",
       "mean          4.530876\n",
       "std          15.679487\n",
       "min           1.000000\n",
       "25%           2.000000\n",
       "50%           2.000000\n",
       "75%           2.000000\n",
       "max          99.000000\n",
       "Name: BCHECKEV, dtype: float64"
      ]
     },
     "execution_count": 88,
     "metadata": {},
     "output_type": "execute_result"
    }
   ],
   "source": [
    "underbanked_sub.BCHECKEV.describe()"
   ]
  },
  {
   "cell_type": "code",
   "execution_count": null,
   "metadata": {},
   "outputs": [],
   "source": []
  }
 ],
 "metadata": {
  "kernelspec": {
   "display_name": "Python 3",
   "language": "python",
   "name": "python3"
  },
  "language_info": {
   "codemirror_mode": {
    "name": "ipython",
    "version": 3
   },
   "file_extension": ".py",
   "mimetype": "text/x-python",
   "name": "python",
   "nbconvert_exporter": "python",
   "pygments_lexer": "ipython3",
   "version": "3.7.3"
  }
 },
 "nbformat": 4,
 "nbformat_minor": 2
}
